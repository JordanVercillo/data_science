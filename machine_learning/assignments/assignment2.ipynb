{
 "cells": [
  {
   "cell_type": "markdown",
   "metadata": {
    "colab_type": "text",
    "id": "D9UboDIvnAKI"
   },
   "source": [
    "## Assignment 2 - Clustering"
   ]
  },
  {
   "cell_type": "markdown",
   "metadata": {
    "colab_type": "text",
    "id": "5AibtmcInAKK"
   },
   "source": [
    "## Learning Outcomes\n",
    "\n",
    "In this assignment, you will do the following:\n",
    "\n",
    "* Explore a dataset and carry out clustering using k-means algorithm\n",
    "\n",
    "* Identify the optimum number of clusters for a given dataset\n",
    "\n"
   ]
  },
  {
   "cell_type": "markdown",
   "metadata": {
    "colab_type": "text",
    "id": "TJBMBFfAnAKK"
   },
   "source": [
    "## Problem Description\n",
    "\n",
    "In this assignment, you will study the electricity demand from clients in Portugal, during 2013 and 2014. You have been provided with the data file, which you should download when you download this assignment file.\n",
    "\n",
    "The data$^1$ available contains 370 time series, corresponding to the electric demand$^2$ for 370 clients, between 2011 and 2014. \n",
    "\n",
    "In this guided exercise, you will use clustering techniques to understand the typical usage behaviour during 2013-2014.\n",
    "\n",
    "Both these datasets are publicly available, and can be used to carry out experiments. Their source is below:\n",
    "\n",
    " 1. Data:\n",
    "https://archive.ics.uci.edu/ml/datasets/ElectricityLoadDiagrams20112014#\n",
    "\n",
    " 2. Electric Demand:\n",
    "http://www.think-energy.net/KWvsKWH.htm\n",
    "\n",
    "We will start by exploring the data set and continue on to the assignment.  Consider this as a working notebook, you will add your work to the same notebook.\n",
    "\n",
    "In this assignment we will use the sklearn package for k-means.  Please refer here for the documentation https://scikit-learn.org/stable/modules/generated/sklearn.cluster.KMeans.html\n",
    "(https://scikit-learn.org/stable/modules/generated/sklearn.cluster.KMeans.html).\n",
    "\n",
    "The sklearn package for k-means is one of the many clustering algorithms found in the module \"sklearn.cluster\".  These come with a variety of functions that you can call by importing the package.\n",
    "\n",
    "For example \n",
    "    \n",
    "    from sklearn.cluster import AgglomerativeClustering\n",
    "    from sklearn.cluster import KMeans\n",
    "\n"
   ]
  },
  {
   "cell_type": "markdown",
   "metadata": {
    "colab_type": "text",
    "id": "u0fHlteBnAKL"
   },
   "source": [
    "## Data Preparation\n",
    "\n",
    "Start by downloading the data to a local directory and modify the \"pathToFile\" and \"fileName\" variables, if needed. The data file has been provided with this assignment. It is also available at the links provided above."
   ]
  },
  {
   "cell_type": "code",
   "execution_count": 911,
   "metadata": {
    "colab": {},
    "colab_type": "code",
    "id": "0DJsRL9_nAKM"
   },
   "outputs": [],
   "source": [
    "pathToFile = r\"C:\\\\Users\\\\jverc\\\\Downloads\\\\\"\n",
    "#pathToFile = r\"C:\\\\Users\\\\jverc\\\\Downloads\\\\\"\n",
    "\n",
    "fileName = 'LD2011_2014.txt'"
   ]
  },
  {
   "cell_type": "code",
   "execution_count": 912,
   "metadata": {
    "colab": {},
    "colab_type": "code",
    "id": "yLxHF5B-nAKP"
   },
   "outputs": [],
   "source": [
    "#Fix memory leak issue on windows\n",
    "import os\n",
    "os.environ[\"OMP_NUM_THREADS\"] = \"2\"\n",
    "\n",
    "import warnings\n",
    "warnings.filterwarnings('ignore')\n",
    "\n",
    "import numpy as np\n",
    "import matplotlib.pyplot as plt\n",
    "import random\n",
    "from sklearn.cluster import KMeans, AgglomerativeClustering\n",
    "from sklearn.metrics import silhouette_score, pairwise_distances\n",
    "random.seed(42)"
   ]
  },
  {
   "cell_type": "code",
   "execution_count": 913,
   "metadata": {
    "colab": {},
    "colab_type": "code",
    "id": "6c6CmGbYnAKR"
   },
   "outputs": [],
   "source": [
    "# Replace \",\" by \".\", otherwise the numbers will be in the form 2,3445 instead of 2.3445\n",
    "import fileinput\n",
    "\n",
    "with fileinput.FileInput(pathToFile+fileName, inplace=True, backup='.bak') as file:\n",
    "    for line in file:\n",
    "        print(line.replace(\",\", \".\"), end='')"
   ]
  },
  {
   "cell_type": "code",
   "execution_count": 914,
   "metadata": {
    "colab": {},
    "colab_type": "code",
    "id": "ACTUfls8nAKU"
   },
   "outputs": [],
   "source": [
    "# Create dataframe\n",
    "import pandas as pd\n",
    "data = pd.read_csv(pathToFile+fileName, sep=\";\", index_col=0)"
   ]
  },
  {
   "cell_type": "markdown",
   "metadata": {
    "colab_type": "text",
    "id": "CfULOBctnAKW"
   },
   "source": [
    "### Quick data inspection"
   ]
  },
  {
   "cell_type": "code",
   "execution_count": 915,
   "metadata": {
    "colab": {},
    "colab_type": "code",
    "id": "x3OHI8vRnAKX",
    "outputId": "c821694f-6e8f-48ad-ff42-336915cb4da4"
   },
   "outputs": [
    {
     "data": {
      "text/html": [
       "<div>\n",
       "<style scoped>\n",
       "    .dataframe tbody tr th:only-of-type {\n",
       "        vertical-align: middle;\n",
       "    }\n",
       "\n",
       "    .dataframe tbody tr th {\n",
       "        vertical-align: top;\n",
       "    }\n",
       "\n",
       "    .dataframe thead th {\n",
       "        text-align: right;\n",
       "    }\n",
       "</style>\n",
       "<table border=\"1\" class=\"dataframe\">\n",
       "  <thead>\n",
       "    <tr style=\"text-align: right;\">\n",
       "      <th></th>\n",
       "      <th>MT_001</th>\n",
       "      <th>MT_002</th>\n",
       "      <th>MT_003</th>\n",
       "      <th>MT_004</th>\n",
       "      <th>MT_005</th>\n",
       "      <th>MT_006</th>\n",
       "      <th>MT_007</th>\n",
       "      <th>MT_008</th>\n",
       "      <th>MT_009</th>\n",
       "      <th>MT_010</th>\n",
       "      <th>...</th>\n",
       "      <th>MT_361</th>\n",
       "      <th>MT_362</th>\n",
       "      <th>MT_363</th>\n",
       "      <th>MT_364</th>\n",
       "      <th>MT_365</th>\n",
       "      <th>MT_366</th>\n",
       "      <th>MT_367</th>\n",
       "      <th>MT_368</th>\n",
       "      <th>MT_369</th>\n",
       "      <th>MT_370</th>\n",
       "    </tr>\n",
       "  </thead>\n",
       "  <tbody>\n",
       "    <tr>\n",
       "      <th>2011-01-01 00:15:00</th>\n",
       "      <td>0.0</td>\n",
       "      <td>0.0</td>\n",
       "      <td>0.0</td>\n",
       "      <td>0.0</td>\n",
       "      <td>0.0</td>\n",
       "      <td>0.0</td>\n",
       "      <td>0.0</td>\n",
       "      <td>0.0</td>\n",
       "      <td>0.0</td>\n",
       "      <td>0.0</td>\n",
       "      <td>...</td>\n",
       "      <td>0.0</td>\n",
       "      <td>0.0</td>\n",
       "      <td>0.0</td>\n",
       "      <td>0.0</td>\n",
       "      <td>0.0</td>\n",
       "      <td>0.0</td>\n",
       "      <td>0.0</td>\n",
       "      <td>0.0</td>\n",
       "      <td>0.0</td>\n",
       "      <td>0.0</td>\n",
       "    </tr>\n",
       "    <tr>\n",
       "      <th>2011-01-01 00:30:00</th>\n",
       "      <td>0.0</td>\n",
       "      <td>0.0</td>\n",
       "      <td>0.0</td>\n",
       "      <td>0.0</td>\n",
       "      <td>0.0</td>\n",
       "      <td>0.0</td>\n",
       "      <td>0.0</td>\n",
       "      <td>0.0</td>\n",
       "      <td>0.0</td>\n",
       "      <td>0.0</td>\n",
       "      <td>...</td>\n",
       "      <td>0.0</td>\n",
       "      <td>0.0</td>\n",
       "      <td>0.0</td>\n",
       "      <td>0.0</td>\n",
       "      <td>0.0</td>\n",
       "      <td>0.0</td>\n",
       "      <td>0.0</td>\n",
       "      <td>0.0</td>\n",
       "      <td>0.0</td>\n",
       "      <td>0.0</td>\n",
       "    </tr>\n",
       "  </tbody>\n",
       "</table>\n",
       "<p>2 rows × 370 columns</p>\n",
       "</div>"
      ],
      "text/plain": [
       "                     MT_001  MT_002  MT_003  MT_004  MT_005  MT_006  MT_007  \\\n",
       "2011-01-01 00:15:00     0.0     0.0     0.0     0.0     0.0     0.0     0.0   \n",
       "2011-01-01 00:30:00     0.0     0.0     0.0     0.0     0.0     0.0     0.0   \n",
       "\n",
       "                     MT_008  MT_009  MT_010  ...  MT_361  MT_362  MT_363  \\\n",
       "2011-01-01 00:15:00     0.0     0.0     0.0  ...     0.0     0.0     0.0   \n",
       "2011-01-01 00:30:00     0.0     0.0     0.0  ...     0.0     0.0     0.0   \n",
       "\n",
       "                     MT_364  MT_365  MT_366  MT_367  MT_368  MT_369  MT_370  \n",
       "2011-01-01 00:15:00     0.0     0.0     0.0     0.0     0.0     0.0     0.0  \n",
       "2011-01-01 00:30:00     0.0     0.0     0.0     0.0     0.0     0.0     0.0  \n",
       "\n",
       "[2 rows x 370 columns]"
      ]
     },
     "execution_count": 915,
     "metadata": {},
     "output_type": "execute_result"
    }
   ],
   "source": [
    "data.head(2)"
   ]
  },
  {
   "cell_type": "code",
   "execution_count": 916,
   "metadata": {
    "colab": {},
    "colab_type": "code",
    "id": "BtQvkYF_nAKd",
    "outputId": "9598f8f3-b53a-49ce-d97f-51d562f582d0"
   },
   "outputs": [
    {
     "data": {
      "text/html": [
       "<div>\n",
       "<style scoped>\n",
       "    .dataframe tbody tr th:only-of-type {\n",
       "        vertical-align: middle;\n",
       "    }\n",
       "\n",
       "    .dataframe tbody tr th {\n",
       "        vertical-align: top;\n",
       "    }\n",
       "\n",
       "    .dataframe thead th {\n",
       "        text-align: right;\n",
       "    }\n",
       "</style>\n",
       "<table border=\"1\" class=\"dataframe\">\n",
       "  <thead>\n",
       "    <tr style=\"text-align: right;\">\n",
       "      <th></th>\n",
       "      <th>MT_001</th>\n",
       "      <th>MT_002</th>\n",
       "      <th>MT_003</th>\n",
       "      <th>MT_004</th>\n",
       "      <th>MT_005</th>\n",
       "      <th>MT_006</th>\n",
       "      <th>MT_007</th>\n",
       "      <th>MT_008</th>\n",
       "      <th>MT_009</th>\n",
       "      <th>MT_010</th>\n",
       "      <th>...</th>\n",
       "      <th>MT_361</th>\n",
       "      <th>MT_362</th>\n",
       "      <th>MT_363</th>\n",
       "      <th>MT_364</th>\n",
       "      <th>MT_365</th>\n",
       "      <th>MT_366</th>\n",
       "      <th>MT_367</th>\n",
       "      <th>MT_368</th>\n",
       "      <th>MT_369</th>\n",
       "      <th>MT_370</th>\n",
       "    </tr>\n",
       "  </thead>\n",
       "  <tbody>\n",
       "    <tr>\n",
       "      <th>2014-12-31 23:45:00</th>\n",
       "      <td>1.269036</td>\n",
       "      <td>21.337127</td>\n",
       "      <td>1.737619</td>\n",
       "      <td>166.666667</td>\n",
       "      <td>85.365854</td>\n",
       "      <td>285.714286</td>\n",
       "      <td>10.17524</td>\n",
       "      <td>225.589226</td>\n",
       "      <td>64.685315</td>\n",
       "      <td>72.043011</td>\n",
       "      <td>...</td>\n",
       "      <td>246.252677</td>\n",
       "      <td>28000.0</td>\n",
       "      <td>1443.037975</td>\n",
       "      <td>909.090909</td>\n",
       "      <td>26.075619</td>\n",
       "      <td>4.095963</td>\n",
       "      <td>664.618086</td>\n",
       "      <td>146.911519</td>\n",
       "      <td>646.627566</td>\n",
       "      <td>6540.540541</td>\n",
       "    </tr>\n",
       "    <tr>\n",
       "      <th>2015-01-01 00:00:00</th>\n",
       "      <td>2.538071</td>\n",
       "      <td>19.914651</td>\n",
       "      <td>1.737619</td>\n",
       "      <td>178.861789</td>\n",
       "      <td>84.146341</td>\n",
       "      <td>279.761905</td>\n",
       "      <td>10.17524</td>\n",
       "      <td>249.158249</td>\n",
       "      <td>62.937063</td>\n",
       "      <td>69.892473</td>\n",
       "      <td>...</td>\n",
       "      <td>188.436831</td>\n",
       "      <td>27800.0</td>\n",
       "      <td>1409.282700</td>\n",
       "      <td>954.545455</td>\n",
       "      <td>27.379400</td>\n",
       "      <td>4.095963</td>\n",
       "      <td>628.621598</td>\n",
       "      <td>131.886477</td>\n",
       "      <td>673.020528</td>\n",
       "      <td>7135.135135</td>\n",
       "    </tr>\n",
       "  </tbody>\n",
       "</table>\n",
       "<p>2 rows × 370 columns</p>\n",
       "</div>"
      ],
      "text/plain": [
       "                       MT_001     MT_002    MT_003      MT_004     MT_005  \\\n",
       "2014-12-31 23:45:00  1.269036  21.337127  1.737619  166.666667  85.365854   \n",
       "2015-01-01 00:00:00  2.538071  19.914651  1.737619  178.861789  84.146341   \n",
       "\n",
       "                         MT_006    MT_007      MT_008     MT_009     MT_010  \\\n",
       "2014-12-31 23:45:00  285.714286  10.17524  225.589226  64.685315  72.043011   \n",
       "2015-01-01 00:00:00  279.761905  10.17524  249.158249  62.937063  69.892473   \n",
       "\n",
       "                     ...      MT_361   MT_362       MT_363      MT_364  \\\n",
       "2014-12-31 23:45:00  ...  246.252677  28000.0  1443.037975  909.090909   \n",
       "2015-01-01 00:00:00  ...  188.436831  27800.0  1409.282700  954.545455   \n",
       "\n",
       "                        MT_365    MT_366      MT_367      MT_368      MT_369  \\\n",
       "2014-12-31 23:45:00  26.075619  4.095963  664.618086  146.911519  646.627566   \n",
       "2015-01-01 00:00:00  27.379400  4.095963  628.621598  131.886477  673.020528   \n",
       "\n",
       "                          MT_370  \n",
       "2014-12-31 23:45:00  6540.540541  \n",
       "2015-01-01 00:00:00  7135.135135  \n",
       "\n",
       "[2 rows x 370 columns]"
      ]
     },
     "execution_count": 916,
     "metadata": {},
     "output_type": "execute_result"
    }
   ],
   "source": [
    "data.tail(2)"
   ]
  },
  {
   "cell_type": "code",
   "execution_count": 917,
   "metadata": {
    "colab": {},
    "colab_type": "code",
    "id": "Ydr4AkL9nAKg",
    "outputId": "1b4b50f0-3fc4-4805-8160-d8872a35efae"
   },
   "outputs": [
    {
     "data": {
      "text/plain": [
       "(140256, 370)"
      ]
     },
     "execution_count": 917,
     "metadata": {},
     "output_type": "execute_result"
    }
   ],
   "source": [
    "data.shape"
   ]
  },
  {
   "cell_type": "markdown",
   "metadata": {
    "colab_type": "text",
    "id": "j4xzOoTunAKj"
   },
   "source": [
    "#### As it can be seen, the dataframe contains a row for each interval of 15 minutes between Jan 1, 2011 to Dec 31 2014. There are 370 columns corresponding 370 clients. The dataframe is indexed by the timestamp.\n",
    "\n",
    "Since the frequency is 15 minutes, each day provides $24\\times 4 = 96$ datapoints, which multiplied by 365 days and 4 years (plus 1 day in Feb 29, 2012) gives: $96 \\times 365 \\times 4 + 96 = 140256$, as observed in data.shape"
   ]
  },
  {
   "cell_type": "code",
   "execution_count": 918,
   "metadata": {
    "colab": {},
    "colab_type": "code",
    "id": "K1RXKoAwnAKj",
    "outputId": "a7cfcc67-0a4c-4ee9-8cc9-b6ea80a74d3a"
   },
   "outputs": [
    {
     "name": "stdout",
     "output_type": "stream",
     "text": [
      "<class 'pandas.core.frame.DataFrame'>\n",
      "Index: 140256 entries, 2011-01-01 00:15:00 to 2015-01-01 00:00:00\n",
      "Columns: 370 entries, MT_001 to MT_370\n",
      "dtypes: float64(370)\n",
      "memory usage: 397.0+ MB\n"
     ]
    }
   ],
   "source": [
    "data.info()"
   ]
  },
  {
   "cell_type": "code",
   "execution_count": 919,
   "metadata": {
    "colab": {},
    "colab_type": "code",
    "id": "LqyOk3X6nAKm",
    "outputId": "eb0ccbc7-4bc8-486f-c852-b9385db69abb"
   },
   "outputs": [
    {
     "data": {
      "text/html": [
       "<div>\n",
       "<style scoped>\n",
       "    .dataframe tbody tr th:only-of-type {\n",
       "        vertical-align: middle;\n",
       "    }\n",
       "\n",
       "    .dataframe tbody tr th {\n",
       "        vertical-align: top;\n",
       "    }\n",
       "\n",
       "    .dataframe thead th {\n",
       "        text-align: right;\n",
       "    }\n",
       "</style>\n",
       "<table border=\"1\" class=\"dataframe\">\n",
       "  <thead>\n",
       "    <tr style=\"text-align: right;\">\n",
       "      <th></th>\n",
       "      <th>MT_001</th>\n",
       "      <th>MT_002</th>\n",
       "      <th>MT_003</th>\n",
       "      <th>MT_004</th>\n",
       "      <th>MT_005</th>\n",
       "      <th>MT_006</th>\n",
       "      <th>MT_007</th>\n",
       "      <th>MT_008</th>\n",
       "      <th>MT_009</th>\n",
       "      <th>MT_010</th>\n",
       "      <th>...</th>\n",
       "      <th>MT_361</th>\n",
       "      <th>MT_362</th>\n",
       "      <th>MT_363</th>\n",
       "      <th>MT_364</th>\n",
       "      <th>MT_365</th>\n",
       "      <th>MT_366</th>\n",
       "      <th>MT_367</th>\n",
       "      <th>MT_368</th>\n",
       "      <th>MT_369</th>\n",
       "      <th>MT_370</th>\n",
       "    </tr>\n",
       "  </thead>\n",
       "  <tbody>\n",
       "    <tr>\n",
       "      <th>count</th>\n",
       "      <td>140256.000000</td>\n",
       "      <td>140256.000000</td>\n",
       "      <td>140256.000000</td>\n",
       "      <td>140256.000000</td>\n",
       "      <td>140256.000000</td>\n",
       "      <td>140256.000000</td>\n",
       "      <td>140256.000000</td>\n",
       "      <td>140256.000000</td>\n",
       "      <td>140256.000000</td>\n",
       "      <td>140256.000000</td>\n",
       "      <td>...</td>\n",
       "      <td>140256.000000</td>\n",
       "      <td>140256.000000</td>\n",
       "      <td>140256.000000</td>\n",
       "      <td>140256.000000</td>\n",
       "      <td>140256.000000</td>\n",
       "      <td>140256.000000</td>\n",
       "      <td>140256.000000</td>\n",
       "      <td>140256.000000</td>\n",
       "      <td>140256.000000</td>\n",
       "      <td>140256.000000</td>\n",
       "    </tr>\n",
       "    <tr>\n",
       "      <th>mean</th>\n",
       "      <td>3.970785</td>\n",
       "      <td>20.768480</td>\n",
       "      <td>2.918308</td>\n",
       "      <td>82.184490</td>\n",
       "      <td>37.240309</td>\n",
       "      <td>141.227385</td>\n",
       "      <td>4.521338</td>\n",
       "      <td>191.401476</td>\n",
       "      <td>39.975354</td>\n",
       "      <td>42.205152</td>\n",
       "      <td>...</td>\n",
       "      <td>218.213701</td>\n",
       "      <td>37607.987537</td>\n",
       "      <td>1887.427366</td>\n",
       "      <td>2940.031734</td>\n",
       "      <td>65.413150</td>\n",
       "      <td>9.269709</td>\n",
       "      <td>424.262904</td>\n",
       "      <td>94.704717</td>\n",
       "      <td>625.251734</td>\n",
       "      <td>8722.355145</td>\n",
       "    </tr>\n",
       "    <tr>\n",
       "      <th>std</th>\n",
       "      <td>5.983965</td>\n",
       "      <td>13.272415</td>\n",
       "      <td>11.014456</td>\n",
       "      <td>58.248392</td>\n",
       "      <td>26.461327</td>\n",
       "      <td>98.439984</td>\n",
       "      <td>6.485684</td>\n",
       "      <td>121.981187</td>\n",
       "      <td>29.814595</td>\n",
       "      <td>33.401251</td>\n",
       "      <td>...</td>\n",
       "      <td>204.833532</td>\n",
       "      <td>38691.954832</td>\n",
       "      <td>1801.486488</td>\n",
       "      <td>2732.251967</td>\n",
       "      <td>65.007818</td>\n",
       "      <td>10.016782</td>\n",
       "      <td>274.337122</td>\n",
       "      <td>80.297301</td>\n",
       "      <td>380.656042</td>\n",
       "      <td>9195.155777</td>\n",
       "    </tr>\n",
       "    <tr>\n",
       "      <th>min</th>\n",
       "      <td>0.000000</td>\n",
       "      <td>0.000000</td>\n",
       "      <td>0.000000</td>\n",
       "      <td>0.000000</td>\n",
       "      <td>0.000000</td>\n",
       "      <td>0.000000</td>\n",
       "      <td>0.000000</td>\n",
       "      <td>0.000000</td>\n",
       "      <td>0.000000</td>\n",
       "      <td>0.000000</td>\n",
       "      <td>...</td>\n",
       "      <td>0.000000</td>\n",
       "      <td>0.000000</td>\n",
       "      <td>0.000000</td>\n",
       "      <td>0.000000</td>\n",
       "      <td>0.000000</td>\n",
       "      <td>0.000000</td>\n",
       "      <td>0.000000</td>\n",
       "      <td>0.000000</td>\n",
       "      <td>0.000000</td>\n",
       "      <td>0.000000</td>\n",
       "    </tr>\n",
       "    <tr>\n",
       "      <th>25%</th>\n",
       "      <td>0.000000</td>\n",
       "      <td>2.844950</td>\n",
       "      <td>0.000000</td>\n",
       "      <td>36.585366</td>\n",
       "      <td>15.853659</td>\n",
       "      <td>71.428571</td>\n",
       "      <td>0.565291</td>\n",
       "      <td>111.111111</td>\n",
       "      <td>13.986014</td>\n",
       "      <td>9.677419</td>\n",
       "      <td>...</td>\n",
       "      <td>5.710207</td>\n",
       "      <td>0.000000</td>\n",
       "      <td>0.000000</td>\n",
       "      <td>0.000000</td>\n",
       "      <td>13.037810</td>\n",
       "      <td>0.000000</td>\n",
       "      <td>0.000000</td>\n",
       "      <td>30.050083</td>\n",
       "      <td>83.944282</td>\n",
       "      <td>0.000000</td>\n",
       "    </tr>\n",
       "    <tr>\n",
       "      <th>50%</th>\n",
       "      <td>1.269036</td>\n",
       "      <td>24.893314</td>\n",
       "      <td>1.737619</td>\n",
       "      <td>87.398374</td>\n",
       "      <td>39.024390</td>\n",
       "      <td>157.738095</td>\n",
       "      <td>2.826456</td>\n",
       "      <td>222.222222</td>\n",
       "      <td>40.209790</td>\n",
       "      <td>40.860215</td>\n",
       "      <td>...</td>\n",
       "      <td>131.334761</td>\n",
       "      <td>24100.000000</td>\n",
       "      <td>1050.632911</td>\n",
       "      <td>2136.363636</td>\n",
       "      <td>31.290743</td>\n",
       "      <td>7.021650</td>\n",
       "      <td>525.899912</td>\n",
       "      <td>76.794658</td>\n",
       "      <td>758.064516</td>\n",
       "      <td>0.000000</td>\n",
       "    </tr>\n",
       "    <tr>\n",
       "      <th>75%</th>\n",
       "      <td>2.538071</td>\n",
       "      <td>29.871977</td>\n",
       "      <td>1.737619</td>\n",
       "      <td>115.853659</td>\n",
       "      <td>54.878049</td>\n",
       "      <td>205.357143</td>\n",
       "      <td>4.522329</td>\n",
       "      <td>279.461279</td>\n",
       "      <td>57.692308</td>\n",
       "      <td>61.290323</td>\n",
       "      <td>...</td>\n",
       "      <td>403.283369</td>\n",
       "      <td>54800.000000</td>\n",
       "      <td>3312.236287</td>\n",
       "      <td>5363.636364</td>\n",
       "      <td>108.213820</td>\n",
       "      <td>11.702750</td>\n",
       "      <td>627.743635</td>\n",
       "      <td>151.919866</td>\n",
       "      <td>875.366569</td>\n",
       "      <td>17783.783784</td>\n",
       "    </tr>\n",
       "    <tr>\n",
       "      <th>max</th>\n",
       "      <td>48.223350</td>\n",
       "      <td>115.220484</td>\n",
       "      <td>151.172893</td>\n",
       "      <td>321.138211</td>\n",
       "      <td>150.000000</td>\n",
       "      <td>535.714286</td>\n",
       "      <td>44.657999</td>\n",
       "      <td>552.188552</td>\n",
       "      <td>157.342657</td>\n",
       "      <td>198.924731</td>\n",
       "      <td>...</td>\n",
       "      <td>852.962170</td>\n",
       "      <td>192800.000000</td>\n",
       "      <td>7751.054852</td>\n",
       "      <td>12386.363636</td>\n",
       "      <td>335.071708</td>\n",
       "      <td>60.269163</td>\n",
       "      <td>1138.718174</td>\n",
       "      <td>362.270451</td>\n",
       "      <td>1549.120235</td>\n",
       "      <td>30918.918919</td>\n",
       "    </tr>\n",
       "  </tbody>\n",
       "</table>\n",
       "<p>8 rows × 370 columns</p>\n",
       "</div>"
      ],
      "text/plain": [
       "              MT_001         MT_002         MT_003         MT_004  \\\n",
       "count  140256.000000  140256.000000  140256.000000  140256.000000   \n",
       "mean        3.970785      20.768480       2.918308      82.184490   \n",
       "std         5.983965      13.272415      11.014456      58.248392   \n",
       "min         0.000000       0.000000       0.000000       0.000000   \n",
       "25%         0.000000       2.844950       0.000000      36.585366   \n",
       "50%         1.269036      24.893314       1.737619      87.398374   \n",
       "75%         2.538071      29.871977       1.737619     115.853659   \n",
       "max        48.223350     115.220484     151.172893     321.138211   \n",
       "\n",
       "              MT_005         MT_006         MT_007         MT_008  \\\n",
       "count  140256.000000  140256.000000  140256.000000  140256.000000   \n",
       "mean       37.240309     141.227385       4.521338     191.401476   \n",
       "std        26.461327      98.439984       6.485684     121.981187   \n",
       "min         0.000000       0.000000       0.000000       0.000000   \n",
       "25%        15.853659      71.428571       0.565291     111.111111   \n",
       "50%        39.024390     157.738095       2.826456     222.222222   \n",
       "75%        54.878049     205.357143       4.522329     279.461279   \n",
       "max       150.000000     535.714286      44.657999     552.188552   \n",
       "\n",
       "              MT_009         MT_010  ...         MT_361         MT_362  \\\n",
       "count  140256.000000  140256.000000  ...  140256.000000  140256.000000   \n",
       "mean       39.975354      42.205152  ...     218.213701   37607.987537   \n",
       "std        29.814595      33.401251  ...     204.833532   38691.954832   \n",
       "min         0.000000       0.000000  ...       0.000000       0.000000   \n",
       "25%        13.986014       9.677419  ...       5.710207       0.000000   \n",
       "50%        40.209790      40.860215  ...     131.334761   24100.000000   \n",
       "75%        57.692308      61.290323  ...     403.283369   54800.000000   \n",
       "max       157.342657     198.924731  ...     852.962170  192800.000000   \n",
       "\n",
       "              MT_363         MT_364         MT_365         MT_366  \\\n",
       "count  140256.000000  140256.000000  140256.000000  140256.000000   \n",
       "mean     1887.427366    2940.031734      65.413150       9.269709   \n",
       "std      1801.486488    2732.251967      65.007818      10.016782   \n",
       "min         0.000000       0.000000       0.000000       0.000000   \n",
       "25%         0.000000       0.000000      13.037810       0.000000   \n",
       "50%      1050.632911    2136.363636      31.290743       7.021650   \n",
       "75%      3312.236287    5363.636364     108.213820      11.702750   \n",
       "max      7751.054852   12386.363636     335.071708      60.269163   \n",
       "\n",
       "              MT_367         MT_368         MT_369         MT_370  \n",
       "count  140256.000000  140256.000000  140256.000000  140256.000000  \n",
       "mean      424.262904      94.704717     625.251734    8722.355145  \n",
       "std       274.337122      80.297301     380.656042    9195.155777  \n",
       "min         0.000000       0.000000       0.000000       0.000000  \n",
       "25%         0.000000      30.050083      83.944282       0.000000  \n",
       "50%       525.899912      76.794658     758.064516       0.000000  \n",
       "75%       627.743635     151.919866     875.366569   17783.783784  \n",
       "max      1138.718174     362.270451    1549.120235   30918.918919  \n",
       "\n",
       "[8 rows x 370 columns]"
      ]
     },
     "execution_count": 919,
     "metadata": {},
     "output_type": "execute_result"
    }
   ],
   "source": [
    "data.describe()"
   ]
  },
  {
   "cell_type": "markdown",
   "metadata": {
    "colab_type": "text",
    "id": "bEz7tlUqnAKp"
   },
   "source": [
    "### Plot the first 2 days of 2012 for the first 2 clients"
   ]
  },
  {
   "cell_type": "code",
   "execution_count": 920,
   "metadata": {
    "colab": {},
    "colab_type": "code",
    "id": "DVIRDmI2nAKp",
    "outputId": "f76887ae-1b6d-40ab-f9a8-63ef83264ae2"
   },
   "outputs": [
    {
     "data": {
      "image/png": "[encoded data removed]",
      "text/plain": [
       "<Figure size 640x480 with 1 Axes>"
      ]
     },
     "metadata": {},
     "output_type": "display_data"
    }
   ],
   "source": [
    "data_example = data.loc['2012-01-01 00:15:00':'2012-01-03 00:00:00'][['MT_001','MT_002']]\n",
    "data_example.plot()\n",
    "plt.show()"
   ]
  },
  {
   "cell_type": "markdown",
   "metadata": {
    "colab_type": "text",
    "id": "7Vyl4umRnAKs"
   },
   "source": [
    "#### We  note that the main difference between the curves is the level (also seen on the means in df.describe()).  We know we will have to somehow normalize the curves, in order for the clustering technique to capture the behaviour of the consumption throughout the day."
   ]
  },
  {
   "cell_type": "markdown",
   "metadata": {
    "colab_type": "text",
    "id": "eNRzAdtunAKs"
   },
   "source": [
    "### Data for the analysis\n",
    "\n",
    "We focus on 2013 and 2014 because these are the years with low number of clients having zero demand"
   ]
  },
  {
   "cell_type": "code",
   "execution_count": 921,
   "metadata": {
    "colab": {},
    "colab_type": "code",
    "id": "kZRJzrdJnAKt"
   },
   "outputs": [],
   "source": [
    "data2011 = data.loc['2011-01-01 00:15:00':'2012-01-01 00:00:00']\n",
    "data2012 = data.loc['2012-01-01 00:15:00':'2013-01-01 00:00:00']\n",
    "data2013 = data.loc['2013-01-01 00:15:00':'2014-01-01 00:00:00']\n",
    "data2014 = data.loc['2014-01-01 00:15:00':'2015-01-01 00:00:00']"
   ]
  },
  {
   "cell_type": "code",
   "execution_count": 922,
   "metadata": {
    "colab": {},
    "colab_type": "code",
    "id": "cl68kB4VnAKw",
    "outputId": "3bfce148-042a-4267-f48d-f9ce6c0b52e3"
   },
   "outputs": [
    {
     "name": "stdout",
     "output_type": "stream",
     "text": [
      "365.0\n",
      "366.0\n",
      "365.0\n",
      "365.0\n"
     ]
    }
   ],
   "source": [
    "# Check number of days\n",
    "print(data2011.shape[0]/96)\n",
    "print(data2012.shape[0]/96)\n",
    "print(data2013.shape[0]/96)\n",
    "print(data2014.shape[0]/96)"
   ]
  },
  {
   "cell_type": "code",
   "execution_count": 923,
   "metadata": {
    "colab": {},
    "colab_type": "code",
    "id": "t4wacP4KnAKz",
    "outputId": "dc47bba0-61eb-4a59-9374-54eab9def4e8"
   },
   "outputs": [
    {
     "name": "stdout",
     "output_type": "stream",
     "text": [
      "210\n",
      "37\n",
      "21\n",
      "1\n"
     ]
    }
   ],
   "source": [
    "# See number of clients with 0 demand per year\n",
    "print(sum(data2011.mean()==0))\n",
    "print(sum(data2012.mean()==0))\n",
    "print(sum(data2013.mean()==0))\n",
    "print(sum(data2014.mean()==0))"
   ]
  },
  {
   "cell_type": "code",
   "execution_count": 924,
   "metadata": {
    "colab": {},
    "colab_type": "code",
    "id": "aWlgH8e1nAK4",
    "outputId": "ab6d9de0-b2b7-45aa-f5aa-6622a2a2267c"
   },
   "outputs": [
    {
     "name": "stdout",
     "output_type": "stream",
     "text": [
      "(70080, 349)\n",
      "0\n"
     ]
    }
   ],
   "source": [
    "clients = data2011.columns\n",
    "clients_no_demand = clients[data2013.mean()==0] # clients with 0 demand\n",
    "data_13_14 = pd.concat([data2013, data2014]) # appending 2013 and 2014\n",
    "data_13_14 = data_13_14.drop(clients_no_demand, axis=1) # drop clients with 0 demand\n",
    "print(data_13_14.shape)\n",
    "print(sum(data_13_14.mean()==0)) # check that there are no clients with 0 demand"
   ]
  },
  {
   "cell_type": "markdown",
   "metadata": {
    "colab_type": "text",
    "id": "x3umOLGGnAK9"
   },
   "source": [
    "## Getting average curves per client"
   ]
  },
  {
   "cell_type": "code",
   "execution_count": 925,
   "metadata": {
    "colab": {},
    "colab_type": "code",
    "id": "4OaRjfZGnAK_"
   },
   "outputs": [],
   "source": [
    "data = data_13_14.copy() # weekdays weekends, data2011, data2012, data2013, data2014"
   ]
  },
  {
   "cell_type": "code",
   "execution_count": 926,
   "metadata": {
    "colab": {},
    "colab_type": "code",
    "id": "WI-3XYBJnALD"
   },
   "outputs": [],
   "source": [
    "data['hour'] = data.index.map(lambda x: x[11:])"
   ]
  },
  {
   "cell_type": "code",
   "execution_count": 927,
   "metadata": {
    "colab": {},
    "colab_type": "code",
    "id": "zXejFSuBnALF",
    "outputId": "f5e38ef6-019f-48bb-c751-b100dcdb9a32"
   },
   "outputs": [
    {
     "data": {
      "text/html": [
       "<div>\n",
       "<style scoped>\n",
       "    .dataframe tbody tr th:only-of-type {\n",
       "        vertical-align: middle;\n",
       "    }\n",
       "\n",
       "    .dataframe tbody tr th {\n",
       "        vertical-align: top;\n",
       "    }\n",
       "\n",
       "    .dataframe thead th {\n",
       "        text-align: right;\n",
       "    }\n",
       "</style>\n",
       "<table border=\"1\" class=\"dataframe\">\n",
       "  <thead>\n",
       "    <tr style=\"text-align: right;\">\n",
       "      <th></th>\n",
       "      <th>MT_001</th>\n",
       "      <th>MT_002</th>\n",
       "      <th>MT_003</th>\n",
       "      <th>MT_004</th>\n",
       "      <th>MT_005</th>\n",
       "      <th>MT_006</th>\n",
       "      <th>MT_007</th>\n",
       "      <th>MT_008</th>\n",
       "      <th>MT_009</th>\n",
       "      <th>MT_010</th>\n",
       "      <th>...</th>\n",
       "      <th>MT_362</th>\n",
       "      <th>MT_363</th>\n",
       "      <th>MT_364</th>\n",
       "      <th>MT_365</th>\n",
       "      <th>MT_366</th>\n",
       "      <th>MT_367</th>\n",
       "      <th>MT_368</th>\n",
       "      <th>MT_369</th>\n",
       "      <th>MT_370</th>\n",
       "      <th>hour</th>\n",
       "    </tr>\n",
       "  </thead>\n",
       "  <tbody>\n",
       "    <tr>\n",
       "      <th>2013-01-01 00:15:00</th>\n",
       "      <td>2.538071</td>\n",
       "      <td>22.759602</td>\n",
       "      <td>2.606429</td>\n",
       "      <td>138.211382</td>\n",
       "      <td>63.414634</td>\n",
       "      <td>255.952381</td>\n",
       "      <td>4.522329</td>\n",
       "      <td>239.057239</td>\n",
       "      <td>57.692308</td>\n",
       "      <td>78.494624</td>\n",
       "      <td>...</td>\n",
       "      <td>22300.0</td>\n",
       "      <td>886.075949</td>\n",
       "      <td>1000.000000</td>\n",
       "      <td>16.949153</td>\n",
       "      <td>6.436513</td>\n",
       "      <td>616.330114</td>\n",
       "      <td>76.794658</td>\n",
       "      <td>731.671554</td>\n",
       "      <td>8086.486486</td>\n",
       "      <td>00:15:00</td>\n",
       "    </tr>\n",
       "    <tr>\n",
       "      <th>2013-01-01 00:30:00</th>\n",
       "      <td>1.269036</td>\n",
       "      <td>22.759602</td>\n",
       "      <td>2.606429</td>\n",
       "      <td>138.211382</td>\n",
       "      <td>63.414634</td>\n",
       "      <td>264.880952</td>\n",
       "      <td>5.652911</td>\n",
       "      <td>228.956229</td>\n",
       "      <td>57.692308</td>\n",
       "      <td>76.344086</td>\n",
       "      <td>...</td>\n",
       "      <td>21000.0</td>\n",
       "      <td>864.978903</td>\n",
       "      <td>909.090909</td>\n",
       "      <td>18.252934</td>\n",
       "      <td>3.510825</td>\n",
       "      <td>564.530290</td>\n",
       "      <td>76.794658</td>\n",
       "      <td>727.272727</td>\n",
       "      <td>8086.486486</td>\n",
       "      <td>00:30:00</td>\n",
       "    </tr>\n",
       "    <tr>\n",
       "      <th>2013-01-01 00:45:00</th>\n",
       "      <td>2.538071</td>\n",
       "      <td>22.759602</td>\n",
       "      <td>2.606429</td>\n",
       "      <td>134.146341</td>\n",
       "      <td>60.975610</td>\n",
       "      <td>250.000000</td>\n",
       "      <td>5.652911</td>\n",
       "      <td>239.057239</td>\n",
       "      <td>54.195804</td>\n",
       "      <td>76.344086</td>\n",
       "      <td>...</td>\n",
       "      <td>18200.0</td>\n",
       "      <td>860.759494</td>\n",
       "      <td>840.909091</td>\n",
       "      <td>16.949153</td>\n",
       "      <td>5.851375</td>\n",
       "      <td>590.869183</td>\n",
       "      <td>68.447412</td>\n",
       "      <td>730.205279</td>\n",
       "      <td>7848.648649</td>\n",
       "      <td>00:45:00</td>\n",
       "    </tr>\n",
       "  </tbody>\n",
       "</table>\n",
       "<p>3 rows × 350 columns</p>\n",
       "</div>"
      ],
      "text/plain": [
       "                       MT_001     MT_002    MT_003      MT_004     MT_005  \\\n",
       "2013-01-01 00:15:00  2.538071  22.759602  2.606429  138.211382  63.414634   \n",
       "2013-01-01 00:30:00  1.269036  22.759602  2.606429  138.211382  63.414634   \n",
       "2013-01-01 00:45:00  2.538071  22.759602  2.606429  134.146341  60.975610   \n",
       "\n",
       "                         MT_006    MT_007      MT_008     MT_009     MT_010  \\\n",
       "2013-01-01 00:15:00  255.952381  4.522329  239.057239  57.692308  78.494624   \n",
       "2013-01-01 00:30:00  264.880952  5.652911  228.956229  57.692308  76.344086   \n",
       "2013-01-01 00:45:00  250.000000  5.652911  239.057239  54.195804  76.344086   \n",
       "\n",
       "                     ...   MT_362      MT_363       MT_364     MT_365  \\\n",
       "2013-01-01 00:15:00  ...  22300.0  886.075949  1000.000000  16.949153   \n",
       "2013-01-01 00:30:00  ...  21000.0  864.978903   909.090909  18.252934   \n",
       "2013-01-01 00:45:00  ...  18200.0  860.759494   840.909091  16.949153   \n",
       "\n",
       "                       MT_366      MT_367     MT_368      MT_369       MT_370  \\\n",
       "2013-01-01 00:15:00  6.436513  616.330114  76.794658  731.671554  8086.486486   \n",
       "2013-01-01 00:30:00  3.510825  564.530290  76.794658  727.272727  8086.486486   \n",
       "2013-01-01 00:45:00  5.851375  590.869183  68.447412  730.205279  7848.648649   \n",
       "\n",
       "                         hour  \n",
       "2013-01-01 00:15:00  00:15:00  \n",
       "2013-01-01 00:30:00  00:30:00  \n",
       "2013-01-01 00:45:00  00:45:00  \n",
       "\n",
       "[3 rows x 350 columns]"
      ]
     },
     "execution_count": 927,
     "metadata": {},
     "output_type": "execute_result"
    }
   ],
   "source": [
    "data.head(3)"
   ]
  },
  {
   "cell_type": "markdown",
   "metadata": {
    "colab_type": "text",
    "id": "8KR5kWP9nALH"
   },
   "source": [
    "### Getting average curves per client"
   ]
  },
  {
   "cell_type": "code",
   "execution_count": 928,
   "metadata": {
    "colab": {},
    "colab_type": "code",
    "id": "-a_Ca2zSnALI",
    "outputId": "72890259-4294-4af3-f4a1-624b057b9474"
   },
   "outputs": [
    {
     "data": {
      "text/plain": [
       "(96, 349)"
      ]
     },
     "execution_count": 928,
     "metadata": {},
     "output_type": "execute_result"
    }
   ],
   "source": [
    "datagrouped = data.groupby(\"hour\")\n",
    "average_curves = datagrouped.agg(\"mean\")\n",
    "average_curves.shape "
   ]
  },
  {
   "cell_type": "markdown",
   "metadata": {
    "colab_type": "text",
    "id": "CmBX_M92nALL"
   },
   "source": [
    "#### The dataframe average_curves contains the 349 typical weekday electric demands\n",
    "\n",
    "#### We now divide each curve by its mean, so that all curves have mean 1"
   ]
  },
  {
   "cell_type": "code",
   "execution_count": 929,
   "metadata": {
    "colab": {},
    "colab_type": "code",
    "id": "NdGU5rKFnALM"
   },
   "outputs": [],
   "source": [
    "average_curves_norm = average_curves/(average_curves.mean())"
   ]
  },
  {
   "cell_type": "code",
   "execution_count": 930,
   "metadata": {},
   "outputs": [
    {
     "data": {
      "text/html": [
       "<div>\n",
       "<style scoped>\n",
       "    .dataframe tbody tr th:only-of-type {\n",
       "        vertical-align: middle;\n",
       "    }\n",
       "\n",
       "    .dataframe tbody tr th {\n",
       "        vertical-align: top;\n",
       "    }\n",
       "\n",
       "    .dataframe thead th {\n",
       "        text-align: right;\n",
       "    }\n",
       "</style>\n",
       "<table border=\"1\" class=\"dataframe\">\n",
       "  <thead>\n",
       "    <tr style=\"text-align: right;\">\n",
       "      <th></th>\n",
       "      <th>MT_001</th>\n",
       "      <th>MT_002</th>\n",
       "      <th>MT_003</th>\n",
       "      <th>MT_004</th>\n",
       "      <th>MT_005</th>\n",
       "      <th>MT_006</th>\n",
       "      <th>MT_007</th>\n",
       "      <th>MT_008</th>\n",
       "      <th>MT_009</th>\n",
       "      <th>MT_010</th>\n",
       "      <th>...</th>\n",
       "      <th>MT_361</th>\n",
       "      <th>MT_362</th>\n",
       "      <th>MT_363</th>\n",
       "      <th>MT_364</th>\n",
       "      <th>MT_365</th>\n",
       "      <th>MT_366</th>\n",
       "      <th>MT_367</th>\n",
       "      <th>MT_368</th>\n",
       "      <th>MT_369</th>\n",
       "      <th>MT_370</th>\n",
       "    </tr>\n",
       "    <tr>\n",
       "      <th>hour</th>\n",
       "      <th></th>\n",
       "      <th></th>\n",
       "      <th></th>\n",
       "      <th></th>\n",
       "      <th></th>\n",
       "      <th></th>\n",
       "      <th></th>\n",
       "      <th></th>\n",
       "      <th></th>\n",
       "      <th></th>\n",
       "      <th></th>\n",
       "      <th></th>\n",
       "      <th></th>\n",
       "      <th></th>\n",
       "      <th></th>\n",
       "      <th></th>\n",
       "      <th></th>\n",
       "      <th></th>\n",
       "      <th></th>\n",
       "      <th></th>\n",
       "      <th></th>\n",
       "    </tr>\n",
       "  </thead>\n",
       "  <tbody>\n",
       "    <tr>\n",
       "      <th>00:00:00</th>\n",
       "      <td>0.964792</td>\n",
       "      <td>0.926674</td>\n",
       "      <td>0.991800</td>\n",
       "      <td>1.140106</td>\n",
       "      <td>1.186498</td>\n",
       "      <td>1.008914</td>\n",
       "      <td>1.170686</td>\n",
       "      <td>0.946572</td>\n",
       "      <td>0.983915</td>\n",
       "      <td>0.948867</td>\n",
       "      <td>...</td>\n",
       "      <td>0.414676</td>\n",
       "      <td>0.748555</td>\n",
       "      <td>0.561491</td>\n",
       "      <td>0.430085</td>\n",
       "      <td>0.471574</td>\n",
       "      <td>1.358632</td>\n",
       "      <td>1.215272</td>\n",
       "      <td>1.170441</td>\n",
       "      <td>0.974307</td>\n",
       "      <td>0.992967</td>\n",
       "    </tr>\n",
       "    <tr>\n",
       "      <th>00:15:00</th>\n",
       "      <td>0.947378</td>\n",
       "      <td>0.919117</td>\n",
       "      <td>0.977796</td>\n",
       "      <td>1.099159</td>\n",
       "      <td>1.131703</td>\n",
       "      <td>0.946419</td>\n",
       "      <td>1.118666</td>\n",
       "      <td>0.909376</td>\n",
       "      <td>0.953996</td>\n",
       "      <td>0.924425</td>\n",
       "      <td>...</td>\n",
       "      <td>0.414381</td>\n",
       "      <td>0.662602</td>\n",
       "      <td>0.412336</td>\n",
       "      <td>0.375704</td>\n",
       "      <td>0.423108</td>\n",
       "      <td>1.365299</td>\n",
       "      <td>1.184899</td>\n",
       "      <td>1.223818</td>\n",
       "      <td>0.969266</td>\n",
       "      <td>1.000548</td>\n",
       "    </tr>\n",
       "    <tr>\n",
       "      <th>00:30:00</th>\n",
       "      <td>0.960104</td>\n",
       "      <td>0.880744</td>\n",
       "      <td>0.976579</td>\n",
       "      <td>1.061641</td>\n",
       "      <td>1.090238</td>\n",
       "      <td>0.905552</td>\n",
       "      <td>1.081459</td>\n",
       "      <td>0.881217</td>\n",
       "      <td>0.931614</td>\n",
       "      <td>0.908674</td>\n",
       "      <td>...</td>\n",
       "      <td>0.386706</td>\n",
       "      <td>0.561815</td>\n",
       "      <td>0.395294</td>\n",
       "      <td>0.344682</td>\n",
       "      <td>0.386975</td>\n",
       "      <td>1.312627</td>\n",
       "      <td>1.177781</td>\n",
       "      <td>1.211343</td>\n",
       "      <td>0.947969</td>\n",
       "      <td>1.008515</td>\n",
       "    </tr>\n",
       "    <tr>\n",
       "      <th>00:45:00</th>\n",
       "      <td>0.959434</td>\n",
       "      <td>0.877243</td>\n",
       "      <td>0.971708</td>\n",
       "      <td>1.030153</td>\n",
       "      <td>1.053960</td>\n",
       "      <td>0.868064</td>\n",
       "      <td>1.056382</td>\n",
       "      <td>0.855331</td>\n",
       "      <td>0.907404</td>\n",
       "      <td>0.885073</td>\n",
       "      <td>...</td>\n",
       "      <td>0.337499</td>\n",
       "      <td>0.499651</td>\n",
       "      <td>0.352628</td>\n",
       "      <td>0.295219</td>\n",
       "      <td>0.377024</td>\n",
       "      <td>1.245171</td>\n",
       "      <td>1.156699</td>\n",
       "      <td>1.189829</td>\n",
       "      <td>0.937889</td>\n",
       "      <td>1.007613</td>\n",
       "    </tr>\n",
       "    <tr>\n",
       "      <th>01:00:00</th>\n",
       "      <td>0.956085</td>\n",
       "      <td>0.841989</td>\n",
       "      <td>0.953443</td>\n",
       "      <td>0.975761</td>\n",
       "      <td>1.024347</td>\n",
       "      <td>0.822656</td>\n",
       "      <td>1.030838</td>\n",
       "      <td>0.830275</td>\n",
       "      <td>0.888265</td>\n",
       "      <td>0.869041</td>\n",
       "      <td>...</td>\n",
       "      <td>0.318475</td>\n",
       "      <td>0.422753</td>\n",
       "      <td>0.342066</td>\n",
       "      <td>0.288892</td>\n",
       "      <td>0.369187</td>\n",
       "      <td>1.292298</td>\n",
       "      <td>1.149629</td>\n",
       "      <td>1.167326</td>\n",
       "      <td>0.931284</td>\n",
       "      <td>1.006770</td>\n",
       "    </tr>\n",
       "  </tbody>\n",
       "</table>\n",
       "<p>5 rows × 349 columns</p>\n",
       "</div>"
      ],
      "text/plain": [
       "            MT_001    MT_002    MT_003    MT_004    MT_005    MT_006  \\\n",
       "hour                                                                   \n",
       "00:00:00  0.964792  0.926674  0.991800  1.140106  1.186498  1.008914   \n",
       "00:15:00  0.947378  0.919117  0.977796  1.099159  1.131703  0.946419   \n",
       "00:30:00  0.960104  0.880744  0.976579  1.061641  1.090238  0.905552   \n",
       "00:45:00  0.959434  0.877243  0.971708  1.030153  1.053960  0.868064   \n",
       "01:00:00  0.956085  0.841989  0.953443  0.975761  1.024347  0.822656   \n",
       "\n",
       "            MT_007    MT_008    MT_009    MT_010  ...    MT_361    MT_362  \\\n",
       "hour                                              ...                       \n",
       "00:00:00  1.170686  0.946572  0.983915  0.948867  ...  0.414676  0.748555   \n",
       "00:15:00  1.118666  0.909376  0.953996  0.924425  ...  0.414381  0.662602   \n",
       "00:30:00  1.081459  0.881217  0.931614  0.908674  ...  0.386706  0.561815   \n",
       "00:45:00  1.056382  0.855331  0.907404  0.885073  ...  0.337499  0.499651   \n",
       "01:00:00  1.030838  0.830275  0.888265  0.869041  ...  0.318475  0.422753   \n",
       "\n",
       "            MT_363    MT_364    MT_365    MT_366    MT_367    MT_368  \\\n",
       "hour                                                                   \n",
       "00:00:00  0.561491  0.430085  0.471574  1.358632  1.215272  1.170441   \n",
       "00:15:00  0.412336  0.375704  0.423108  1.365299  1.184899  1.223818   \n",
       "00:30:00  0.395294  0.344682  0.386975  1.312627  1.177781  1.211343   \n",
       "00:45:00  0.352628  0.295219  0.377024  1.245171  1.156699  1.189829   \n",
       "01:00:00  0.342066  0.288892  0.369187  1.292298  1.149629  1.167326   \n",
       "\n",
       "            MT_369    MT_370  \n",
       "hour                          \n",
       "00:00:00  0.974307  0.992967  \n",
       "00:15:00  0.969266  1.000548  \n",
       "00:30:00  0.947969  1.008515  \n",
       "00:45:00  0.937889  1.007613  \n",
       "01:00:00  0.931284  1.006770  \n",
       "\n",
       "[5 rows x 349 columns]"
      ]
     },
     "execution_count": 930,
     "metadata": {},
     "output_type": "execute_result"
    }
   ],
   "source": [
    "average_curves_norm.head(5)"
   ]
  },
  {
   "cell_type": "markdown",
   "metadata": {
    "colab_type": "text",
    "id": "sIJCEfqfnALO"
   },
   "source": [
    "#### Plot the first 2 and last 2 clients"
   ]
  },
  {
   "cell_type": "code",
   "execution_count": 931,
   "metadata": {
    "colab": {},
    "colab_type": "code",
    "id": "9YZQfHOxnALO",
    "outputId": "d671a5c7-e4bb-4bd4-8da3-dfa2efbdb688"
   },
   "outputs": [
    {
     "data": {
      "image/png": "[encoded data removed]",
      "text/plain": [
       "<Figure size 640x480 with 1 Axes>"
      ]
     },
     "metadata": {},
     "output_type": "display_data"
    }
   ],
   "source": [
    "average_curves_norm[['MT_001','MT_002','MT_369','MT_370']].plot()\n",
    "plt.show()"
   ]
  },
  {
   "cell_type": "markdown",
   "metadata": {
    "colab_type": "text",
    "id": "i06taQLunALR"
   },
   "source": [
    "## Clustering Analysis on the average normalized curves"
   ]
  },
  {
   "cell_type": "code",
   "execution_count": 932,
   "metadata": {
    "colab": {},
    "colab_type": "code",
    "id": "xBjIy1DInALR"
   },
   "outputs": [],
   "source": [
    "X = average_curves_norm.copy()  # We call this normalized curve\n",
    "X = np.array(X.T) # put it on the right format"
   ]
  },
  {
   "cell_type": "code",
   "execution_count": 933,
   "metadata": {},
   "outputs": [
    {
     "name": "stdout",
     "output_type": "stream",
     "text": [
      "[0.96479215 0.92667365 0.99179969 1.14010579 1.1864976  1.00891411\n",
      " 1.17068619 0.94657204 0.98391545 0.94886739 1.06772715 0.89915424\n",
      " 0.59400475 0.81263266 0.90089299 1.13949885 0.94222717 0.94328985\n",
      " 1.07102733 1.11266603 0.97625761 0.82602644 1.04179541 0.97973957\n",
      " 0.95089169 1.1989757  1.2231719  1.1354984  0.92225193 1.18650869\n",
      " 0.95607686 1.02558285 0.96920713 1.3093418  1.02356154 0.56742156\n",
      " 1.09231264 0.87411082 1.09506545 0.94573598 1.17104936 0.94989368\n",
      " 0.94815117 1.09390042 0.74977809 1.08323874 0.94100515 1.00035211\n",
      " 0.98705591 0.87046889 1.10519816 1.12043631 1.00462756 0.92856919\n",
      " 1.09718    1.10335045 1.00732595 1.13720518 1.05442475 1.08852618\n",
      " 1.18327387 1.09713219 1.28650624 0.86813863 1.19399337 1.1414345\n",
      " 1.12504301 1.13780841 1.0471597  1.05571799 0.98166049 1.06922387\n",
      " 0.88166428 1.06479195 1.07305574 1.0975396  0.82896558 1.00303416\n",
      " 1.05111686 1.01303197 0.95523378 0.93707132 1.11090969 0.84811684\n",
      " 1.01643028 1.01724296 0.9790634  1.03805679 1.05766014 1.01425364\n",
      " 0.71544168 0.55764695 0.11746873 1.15731382 0.23750095 0.6136415\n",
      " 0.57985889 0.63771965 0.67075725 0.17581506 0.83428792 0.38374806\n",
      " 0.73136146 0.41648658 0.32267926 1.06136602 0.83203885 0.99504795\n",
      " 0.74651514 1.2257293  1.25023065 1.04711354 0.83295232 0.63252965\n",
      " 0.95918043 1.08836803 0.65139529 0.61171124 0.60128199 0.46074196\n",
      " 0.34771557 0.50029304 0.8749928  0.84574957 0.78746415 0.96133758\n",
      " 0.98763023 0.94729558 0.98954868 0.98325359 0.98824944 0.96962045\n",
      " 0.95613733 1.01330994 0.98683806 0.5964927  0.92870253 0.72973897\n",
      " 1.00568548 0.45245121 0.83629021 1.05180282 1.35371946 1.41413068\n",
      " 1.1201214  1.33047602 0.97276621 1.76377768 0.54865628 0.91257448\n",
      " 0.54731038 0.81995769 0.724085   0.56049288 0.66996157 0.60098801\n",
      " 0.56038969 0.63699824 0.56283005 0.60046862 0.69468882 0.63631366\n",
      " 0.77457906 0.70764127 0.61481951 0.7144139  0.53333986 0.6831788\n",
      " 0.75680416 0.69545418 0.88035332 0.76964422 0.84193231 0.77694082\n",
      " 0.83818571 0.75719821 0.61139467 0.7278976  0.58888637 0.59237299\n",
      " 0.74638953 0.77671704 0.75565928 0.9228504  0.81952217 0.85600735\n",
      " 0.71414399 0.54812672 0.67975964 0.84940254 0.91723383 0.78542669\n",
      " 0.77197501 0.79093029 0.78920269 0.61912282 0.74262073 0.82778683\n",
      " 0.71741296 0.62066492 0.66305099 0.53797969 0.65967015 0.73373488\n",
      " 0.76152912 0.80032906 0.85662664 0.54914294 1.06951816 1.0537756\n",
      " 0.63890412 0.54450892 0.57743975 0.57043488 0.69613762 0.59831694\n",
      " 0.70943986 0.62092749 0.71204502 0.69166041 0.58259788 0.64789419\n",
      " 0.66914096 0.56787364 0.58156799 0.76687402 0.62256599 0.54083006\n",
      " 0.56507655 0.61848701 0.64688697 0.72291534 0.58551097 0.56611072\n",
      " 0.57131938 0.59634378 0.61417675 0.61043168 0.59169935 0.82962401\n",
      " 0.4894881  0.5762739  0.6813547  0.56590536 0.55311691 0.64030219\n",
      " 0.60326246 0.57918069 0.66357722 0.63250732 0.57617319 0.70828017\n",
      " 0.79541896 0.69459368 0.81589677 0.74982513 0.5700141  0.65255823\n",
      " 0.60420533 0.71833954 0.6119708  0.75176653 0.72773066 0.80092733\n",
      " 0.59494642 0.54646948 0.60906997 0.73678393 0.61896687 0.82690411\n",
      " 0.67042882 0.68712902 0.70566208 0.54970238 0.63502584 0.60686639\n",
      " 0.68104527 0.59375985 0.69706002 0.75255368 0.68589999 0.62511514\n",
      " 0.67877346 0.62513783 0.61093587 0.67945008 0.54963785 0.57729095\n",
      " 0.5535126  0.68298407 0.68544225 0.67419086 0.59141049 0.58868158\n",
      " 0.61547732 0.75733992 0.73230026 0.5294873  0.59395776 0.63184811\n",
      " 0.6905724  0.64465373 0.54703055 0.56747417 0.78790723 0.75936117\n",
      " 0.57138743 0.58721502 0.66923597 0.71013433 0.56706025 0.55563788\n",
      " 0.44761187 1.02964102 0.59320421 0.47666444 0.54019442 0.60310795\n",
      " 0.92351584 0.60354926 0.75376933 0.710593   0.26193983 0.51376525\n",
      " 0.98505165 1.0805289  1.77505046 0.71322368 0.31994308 0.48627891\n",
      " 1.07271737 0.82611896 0.43918286 0.84582447 0.372696   0.60993141\n",
      " 1.02200455 0.60214532 0.67820948 0.41467575 0.74855467 0.5614908\n",
      " 0.43008476 0.47157446 1.35863223 1.21527166 1.17044059 0.97430716\n",
      " 0.99296729]\n"
     ]
    }
   ],
   "source": [
    "print(X[:, 0])"
   ]
  },
  {
   "cell_type": "markdown",
   "metadata": {},
   "source": [
    "# Questions (15 marks total)\n",
    "\n",
    "**Q1: (7 marks)**\n",
    "\n",
    "a. Determine what a convenient number of clusters. Justify your choice.  Make use of the sklearn's package for k-means for this. You may refer to the module to figure out how to come up with the optimal number of clusters. \n",
    "\n",
    "b. Make a plot for each cluster, that includes:\n",
    "    - The number of clients in the cluster (you can put this in the title of the plot)\n",
    "    - All the curves in the cluster\n",
    "    - The curve corresponding to the center of the cluster (make this curve thicker to distinguish it from the individual curves).  The center is also sometimes referred to as \"centroid\".\n",
    "    \n",
    "You have 2 separate plots for each cluster if you prefer (one for the individual curves, one for the centroid)"
   ]
  },
  {
   "cell_type": "markdown",
   "metadata": {},
   "source": [
    "# Test Case"
   ]
  },
  {
   "cell_type": "markdown",
   "metadata": {},
   "source": [
    "This is used to show how we will train the model once we determine the trueK"
   ]
  },
  {
   "cell_type": "code",
   "execution_count": 934,
   "metadata": {},
   "outputs": [
    {
     "name": "stdout",
     "output_type": "stream",
     "text": [
      "For n_clusters = 5 The inertia is: 553.8272084963306 The average silhouette_score is: 0.4349014712153759\n"
     ]
    }
   ],
   "source": [
    "# Set number of clusters\n",
    "trueK = 5  \n",
    "\n",
    "# Fit K-Means model\n",
    "kmeans_model = KMeans(n_clusters=trueK, random_state=1, n_init=10).fit(X)\n",
    "\n",
    "# Get cluster labels\n",
    "labels = kmeans_model.labels_\n",
    "\n",
    "# Get inertia (sum of squared distances)\n",
    "inertia_value = kmeans_model.inertia_\n",
    "\n",
    "# Compute silhouette score\n",
    "silhouette_avg = silhouette_score(X, labels, metric='euclidean')\n",
    "\n",
    "print(\"For n_clusters =\", trueK, \"The inertia is:\", inertia_value, \"The average silhouette_score is:\", silhouette_avg)\n",
    "    \n"
   ]
  },
  {
   "cell_type": "markdown",
   "metadata": {},
   "source": [
    "# Looping through to find the best Inertia and  silhouette_scores using the elbow method"
   ]
  },
  {
   "cell_type": "code",
   "execution_count": 935,
   "metadata": {},
   "outputs": [],
   "source": [
    "# Define range of clusters to test\n",
    "k_range = range(2, 11)  # Testing K from 2 to 10\n",
    "inertia = []\n",
    "silhouette_scores = []\n",
    "\n",
    "# Loop through different values of k\n",
    "for k in k_range:\n",
    "    kmeans = KMeans(n_clusters=k, random_state=1, n_init=10)\n",
    "    kmeans.fit(X)\n",
    "    inertia.append(kmeans.inertia_)  # Elbow Method\n",
    "    silhouette_scores.append(silhouette_score(X, kmeans.labels_, metric='euclidean'))  # Silhouette Score\n",
    "\n"
   ]
  },
  {
   "cell_type": "code",
   "execution_count": 936,
   "metadata": {},
   "outputs": [
    {
     "data": {
      "text/html": [
       "<div>\n",
       "<style scoped>\n",
       "    .dataframe tbody tr th:only-of-type {\n",
       "        vertical-align: middle;\n",
       "    }\n",
       "\n",
       "    .dataframe tbody tr th {\n",
       "        vertical-align: top;\n",
       "    }\n",
       "\n",
       "    .dataframe thead th {\n",
       "        text-align: right;\n",
       "    }\n",
       "</style>\n",
       "<table border=\"1\" class=\"dataframe\">\n",
       "  <thead>\n",
       "    <tr style=\"text-align: right;\">\n",
       "      <th></th>\n",
       "      <th>Number of Clusters (K)</th>\n",
       "      <th>Inertia (Elbow Method)</th>\n",
       "      <th>Silhouette Score</th>\n",
       "    </tr>\n",
       "  </thead>\n",
       "  <tbody>\n",
       "    <tr>\n",
       "      <th>0</th>\n",
       "      <td>2</td>\n",
       "      <td>1175.527275</td>\n",
       "      <td>0.371918</td>\n",
       "    </tr>\n",
       "    <tr>\n",
       "      <th>1</th>\n",
       "      <td>3</td>\n",
       "      <td>865.967721</td>\n",
       "      <td>0.422447</td>\n",
       "    </tr>\n",
       "    <tr>\n",
       "      <th>2</th>\n",
       "      <td>4</td>\n",
       "      <td>657.644266</td>\n",
       "      <td>0.429636</td>\n",
       "    </tr>\n",
       "    <tr>\n",
       "      <th>3</th>\n",
       "      <td>5</td>\n",
       "      <td>553.827208</td>\n",
       "      <td>0.434901</td>\n",
       "    </tr>\n",
       "    <tr>\n",
       "      <th>4</th>\n",
       "      <td>6</td>\n",
       "      <td>476.537674</td>\n",
       "      <td>0.428770</td>\n",
       "    </tr>\n",
       "    <tr>\n",
       "      <th>5</th>\n",
       "      <td>7</td>\n",
       "      <td>426.850676</td>\n",
       "      <td>0.266626</td>\n",
       "    </tr>\n",
       "    <tr>\n",
       "      <th>6</th>\n",
       "      <td>8</td>\n",
       "      <td>391.620491</td>\n",
       "      <td>0.281545</td>\n",
       "    </tr>\n",
       "    <tr>\n",
       "      <th>7</th>\n",
       "      <td>9</td>\n",
       "      <td>368.896907</td>\n",
       "      <td>0.242991</td>\n",
       "    </tr>\n",
       "    <tr>\n",
       "      <th>8</th>\n",
       "      <td>10</td>\n",
       "      <td>347.176695</td>\n",
       "      <td>0.227058</td>\n",
       "    </tr>\n",
       "  </tbody>\n",
       "</table>\n",
       "</div>"
      ],
      "text/plain": [
       "   Number of Clusters (K)  Inertia (Elbow Method)  Silhouette Score\n",
       "0                       2             1175.527275          0.371918\n",
       "1                       3              865.967721          0.422447\n",
       "2                       4              657.644266          0.429636\n",
       "3                       5              553.827208          0.434901\n",
       "4                       6              476.537674          0.428770\n",
       "5                       7              426.850676          0.266626\n",
       "6                       8              391.620491          0.281545\n",
       "7                       9              368.896907          0.242991\n",
       "8                      10              347.176695          0.227058"
      ]
     },
     "execution_count": 936,
     "metadata": {},
     "output_type": "execute_result"
    }
   ],
   "source": [
    "# Create a DataFrame with the results\n",
    "results_df = pd.DataFrame({'Number of Clusters (K)': list(k_range),\n",
    "                           'Inertia (Elbow Method)': inertia,\n",
    "                           'Silhouette Score': silhouette_scores})\n",
    "results_df "
   ]
  },
  {
   "cell_type": "code",
   "execution_count": 937,
   "metadata": {},
   "outputs": [
    {
     "data": {
      "image/png": "[encoded data removed]",
      "text/plain": [
       "<Figure size 1000x500 with 1 Axes>"
      ]
     },
     "metadata": {},
     "output_type": "display_data"
    }
   ],
   "source": [
    "plt.figure(figsize=(10, 5))\n",
    "plt.plot(k_range, inertia, marker=\"o\", linestyle=\"-\", color=\"b\")\n",
    "plt.xlabel(\"k\")\n",
    "plt.ylabel(\"Total Squared Error\")\n",
    "plt.show()"
   ]
  },
  {
   "cell_type": "markdown",
   "metadata": {},
   "source": [
    "This shows that the most noticeable drop in the inertia between K=2 and K=5 then it slows down. K=4 and K=5 seem like the optimal number of clusters based on the Elbow chart"
   ]
  },
  {
   "cell_type": "code",
   "execution_count": 938,
   "metadata": {},
   "outputs": [
    {
     "data": {
      "image/png": "[encoded data removed]",
      "text/plain": [
       "<Figure size 1000x500 with 1 Axes>"
      ]
     },
     "metadata": {},
     "output_type": "display_data"
    }
   ],
   "source": [
    "plt.figure(figsize=(10, 5))\n",
    "plt.plot(k_range, silhouette_scores, marker=\"o\", linestyle=\"-\", color=\"r\")\n",
    "plt.xlabel(\"k\")\n",
    "plt.ylabel(\"Silhouette Score\")\n",
    "plt.title(\"Silhouette Score vs. Number of Clusters\")\n",
    "plt.show()"
   ]
  },
  {
   "cell_type": "markdown",
   "metadata": {},
   "source": [
    "The highest Silhouette Scores are around K=4 and K=6 with a sharp decline after 6. This means that after 6 clusters the scores will become relevant "
   ]
  },
  {
   "cell_type": "markdown",
   "metadata": {},
   "source": [
    "# Unsupervised Machine Learning Kmeans Cluster Analysis"
   ]
  },
  {
   "cell_type": "code",
   "execution_count": 939,
   "metadata": {},
   "outputs": [
    {
     "name": "stdout",
     "output_type": "stream",
     "text": [
      "For n_clusters = 5 The inertia is: 553.8272084963306 The average silhouette_score is: 0.4349014712153759\n",
      "Inertia: 553.8272084963306\n",
      "Silhouette Score: 0.4349014712153759\n",
      "Cluster Centroids Shape: (5, 96)\n"
     ]
    }
   ],
   "source": [
    "# Set number of clusters\n",
    "trueK = 5  \n",
    "\n",
    "# Fit K-Means model\n",
    "kmeans_model = KMeans(n_clusters=trueK, random_state=1, n_init=10).fit(X)\n",
    "\n",
    "# Get cluster labels\n",
    "labels = kmeans_model.labels_\n",
    "\n",
    "# Get inertia (sum of squared distances)\n",
    "inertia_value = kmeans_model.inertia_\n",
    "\n",
    "# Compute silhouette score\n",
    "silhouette_avg = silhouette_score(X, labels, metric='euclidean')\n",
    "\n",
    "# Get cluster centroids\n",
    "centroids = kmeans_model.cluster_centers_\n",
    "\n",
    "print(\"For n_clusters =\", trueK, \"The inertia is:\", inertia_value, \"The average silhouette_score is:\", silhouette_avg)\n",
    "\n",
    "# Print the results\n",
    "print(f\"Inertia: {inertia_value}\")\n",
    "print(f\"Silhouette Score: {silhouette_avg}\")\n",
    "print(f\"Cluster Centroids Shape: {centroids.shape}\")\n",
    "    \n"
   ]
  },
  {
   "cell_type": "code",
   "execution_count": 940,
   "metadata": {},
   "outputs": [
    {
     "data": {
      "image/png": "[encoded data removed]",
      "text/plain": [
       "<Figure size 800x600 with 1 Axes>"
      ]
     },
     "metadata": {},
     "output_type": "display_data"
    }
   ],
   "source": [
    "plt.figure(figsize=(8, 6))  \n",
    "plt.scatter(X[:, 0], X[:, 1], c=labels)\n",
    "plt.title(f\"K-Means Clustering (K={trueK})\")\n",
    "plt.show() "
   ]
  },
  {
   "cell_type": "code",
   "execution_count": null,
   "metadata": {},
   "outputs": [],
   "source": []
  },
  {
   "cell_type": "code",
   "execution_count": null,
   "metadata": {},
   "outputs": [],
   "source": []
  },
  {
   "cell_type": "code",
   "execution_count": null,
   "metadata": {},
   "outputs": [],
   "source": []
  },
  {
   "cell_type": "markdown",
   "metadata": {},
   "source": [
    "## Client"
   ]
  },
  {
   "cell_type": "code",
   "execution_count": 941,
   "metadata": {
    "colab": {},
    "colab_type": "code",
    "id": "PN3OqvrBaapu"
   },
   "outputs": [],
   "source": [
    "client = 'MT_022'\n",
    "oneClient = data_13_14[client]\n",
    "X = [] # a list of arrays, each array being a normalized curve for a day\n",
    "for J in range(2*365):\n",
    "    X.extend([np.array(oneClient[J*96:(J+1)*96])])#/np.mean(oneClient[J*96:(J+1)*96])]) "
   ]
  },
  {
   "cell_type": "markdown",
   "metadata": {
    "colab_type": "text",
    "id": "HnJC0E1RnALW"
   },
   "source": [
    "**Q2: (8 marks)**\n",
    "\n",
    "In this exercise you work with the daily curves of 1 single client.\n",
    "First, create a list of arrays, each array containing a curve for a day. You may use X from the cells above.\n",
    "    X = average_curves_norm.copy() \n",
    "The list contains 730 arrays, one for each of the days of 2013 and 2014.\n",
    "\n",
    "a. Determine the optimal value of k ( number of clusters). This time you may also perform silhoutte analysis as stated in the module. Carrying out silhoutte analysis is left as an exercise. What do you understand about the clusters? \n",
    "\n",
    "b. Based on your results from your analyses of both methods, what do understand?  Interpret it perhaps with different perspectives of timelines like weeks or months."
   ]
  },
  {
   "cell_type": "markdown",
   "metadata": {
    "colab_type": "text",
    "id": "FaNz6HBlnALZ"
   },
   "source": [
    "#### The following cell generates a list of all the days in the two years 2013-2014, which is helpful to answer part (b).  The cells below are only to give you a headstart.  You may or may not use these and come up with your own interpretation.\n"
   ]
  },
  {
   "cell_type": "code",
   "execution_count": 942,
   "metadata": {
    "colab": {},
    "colab_type": "code",
    "id": "GFAdtF0mnALb"
   },
   "outputs": [],
   "source": [
    "from datetime import date, timedelta\n",
    "\n",
    "d1 = date(2013, 1, 1)  # start date\n",
    "d2 = date(2014, 12, 31)  # end date\n",
    "delta = d2 - d1         # timedelta\n",
    "daysyear = []\n",
    "D = {0:'mon', 1:'tue', 2:'wed', 3:'thu', 4:'fri', 5:'sat', 6:'sun'}\n",
    "for i in range(delta.days + 1):\n",
    "    daysyear.extend([D[(d1 + timedelta(days=i)).weekday()]+\"-\"+str(d1 + timedelta(days=i))])"
   ]
  },
  {
   "cell_type": "markdown",
   "metadata": {
    "colab_type": "text",
    "id": "JBp3QYfYnALg"
   },
   "source": [
    "#### The following cell shows you how to do the following: given a list L, and a list of booleans B (True, False), get the sublist of L that corresponds to the True values in B. For example if L=[1,2,3,4] and B=[False,True,True,False], then the results is [2,3]. This is also helpful for pard (b)"
   ]
  },
  {
   "cell_type": "code",
   "execution_count": 943,
   "metadata": {
    "colab": {},
    "colab_type": "code",
    "id": "EJEM65H9nALh",
    "outputId": "997e9f1c-8896-4573-83af-fda78775c9ba"
   },
   "outputs": [
    {
     "data": {
      "text/plain": [
       "[2, 3]"
      ]
     },
     "execution_count": 943,
     "metadata": {},
     "output_type": "execute_result"
    }
   ],
   "source": [
    "from itertools import compress\n",
    "L = [1,2,3,4]\n",
    "B = [False, True, True, False]\n",
    "list(compress(L, B))"
   ]
  },
  {
   "cell_type": "markdown",
   "metadata": {
    "colab_type": "text",
    "id": "3G5JeHkQnALt"
   },
   "source": [
    "Continue with your analysis here:"
   ]
  }
 ],
 "metadata": {
  "colab": {
   "collapsed_sections": [],
   "name": "Assignment2- Clustering_July7.ipynb",
   "provenance": [],
   "version": "0.3.2"
  },
  "kernelspec": {
   "display_name": "base",
   "language": "python",
   "name": "python3"
  },
  "language_info": {
   "codemirror_mode": {
    "name": "ipython",
    "version": 3
   },
   "file_extension": ".py",
   "mimetype": "text/x-python",
   "name": "python",
   "nbconvert_exporter": "python",
   "pygments_lexer": "ipython3",
   "version": "3.12.7"
  }
 },
 "nbformat": 4,
 "nbformat_minor": 1
}
