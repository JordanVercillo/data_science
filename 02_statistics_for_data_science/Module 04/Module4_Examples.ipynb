{
 "cells": [
  {
   "cell_type": "markdown",
   "metadata": {},
   "source": [
    "# Module 4 Webinar Examples\n"
   ]
  },
  {
   "cell_type": "code",
   "execution_count": null,
   "metadata": {},
   "outputs": [],
   "source": [
    "# import packages\n",
    "import numpy as np\n",
    "import pandas as pd\n",
    "import matplotlib as mpl\n",
    "from matplotlib import pyplot as plt\n",
    "import seaborn as sns\n",
    "from scipy import stats\n",
    "from scipy.stats import binom\n",
    "import math\n",
    "import warnings\n",
    "\n",
    "warnings.filterwarnings('ignore')\n",
    "sns.set_context('paper')\n",
    "%matplotlib inline\n",
    "\n",
    "import matplotlib.pylab as pylab\n",
    "params = {'legend.fontsize': 'large',\n",
    "          'figure.figsize': (15, 5),\n",
    "         'axes.labelsize': 'x-large',\n",
    "         'axes.titlesize':'x-large',\n",
    "         'xtick.labelsize':'large',\n",
    "         'ytick.labelsize':'large'}\n",
    "pylab.rcParams.update(params)"
   ]
  },
  {
   "cell_type": "markdown",
   "metadata": {},
   "source": [
    "## Baker example"
   ]
  },
  {
   "cell_type": "code",
   "execution_count": null,
   "metadata": {},
   "outputs": [],
   "source": [
    "m = 17\n",
    "h0 = 15\n",
    "n = 40\n",
    "sigma = .5\n",
    "\n",
    "se = sigma/np.sqrt(n)\n",
    "\n",
    "print('p value = ', 1 - stats.norm.cdf(17,loc=15,scale=se))\n"
   ]
  },
  {
   "cell_type": "code",
   "execution_count": null,
   "metadata": {},
   "outputs": [],
   "source": [
    "# z-score\n",
    "\n",
    "m = 17\n",
    "h0 = 15\n",
    "n = 40\n",
    "sigma = .5\n",
    "\n",
    "se = sigma/np.sqrt(n)\n",
    "\n",
    "z_score = (m-h0) / se\n",
    "print('z = ', z_score)\n",
    "\n",
    "print('p value = ', 1 - stats.norm.cdf(z_score))\n"
   ]
  },
  {
   "cell_type": "markdown",
   "metadata": {},
   "source": [
    "## Converting between z-scores and p-values:"
   ]
  },
  {
   "cell_type": "markdown",
   "metadata": {},
   "source": [
    "How can we convert a z-score to a p-value? \n",
    "\n",
    "Using the cumulative distribution function, stats.norm.cdf:"
   ]
  },
  {
   "cell_type": "code",
   "execution_count": null,
   "metadata": {},
   "outputs": [],
   "source": [
    "stats.norm.cdf(-1.96)"
   ]
  },
  {
   "cell_type": "markdown",
   "metadata": {},
   "source": [
    "How can we convert a p-value to a z-score?\n",
    "\n",
    "Using the percent point function, stats.norm.ppf, i.e. the inverse of the cumulative distribution function:"
   ]
  },
  {
   "cell_type": "code",
   "execution_count": null,
   "metadata": {},
   "outputs": [],
   "source": [
    "stats.norm.ppf(.975)"
   ]
  },
  {
   "cell_type": "markdown",
   "metadata": {},
   "source": [
    "When using these functions, we need to think really carefully about whether we are conducting a one-tailed (left or right) test or two-tailed test - think about where on the curve we are looking!"
   ]
  },
  {
   "cell_type": "markdown",
   "metadata": {},
   "source": [
    "<b>Example</b>: what are the critical z-scores for a two-tailed test with $\\alpha$ = .1?  \n",
    "\n",
    "Since this is a two-tailed test, we want to divide $\\alpha$ between the two tails, i.e. have .05 in each tail."
   ]
  },
  {
   "cell_type": "markdown",
   "metadata": {},
   "source": [
    "Therefore, the z-score in the right tail will be "
   ]
  },
  {
   "cell_type": "code",
   "execution_count": null,
   "metadata": {},
   "outputs": [],
   "source": [
    "z_right = stats.norm.ppf(.95)\n",
    "print(z_right)"
   ]
  },
  {
   "cell_type": "markdown",
   "metadata": {},
   "source": [
    "and the z-score in the left tail will be "
   ]
  },
  {
   "cell_type": "code",
   "execution_count": null,
   "metadata": {},
   "outputs": [],
   "source": [
    "z_left = stats.norm.ppf(.05)\n",
    "print(z_left)"
   ]
  },
  {
   "cell_type": "markdown",
   "metadata": {},
   "source": [
    "## Type I and type II errors"
   ]
  },
  {
   "cell_type": "markdown",
   "metadata": {},
   "source": [
    "<b>Example</b>: You want to test the claim that an exercise intervention increases productivity scores from 40 to 45. You collect scores from 35 individuals. Assume the population has a standard deviation of 10, and is normally distributed.  \n",
    "\n",
    "Null distribution is centered at 40.  \n",
    "Alternative distribution is centered at 45.   \n",
    "\n",
    "Use $\\alpha$ = .05, one-tailed"
   ]
  },
  {
   "cell_type": "code",
   "execution_count": null,
   "metadata": {},
   "outputs": [],
   "source": [
    "# visualize the scenario\n",
    "\n",
    "n = 35\n",
    "pop_mean = 40\n",
    "pop_stdev = 10\n",
    "\n",
    "se = pop_stdev / np.sqrt(n)\n",
    "alpha = .05\n",
    "thr = stats.norm.ppf(1-alpha) # z-score associated with critical X\n",
    "\n",
    "# plot \n",
    "\n",
    "m1 = 40\n",
    "m2 = 45\n",
    "se = pop_stdev / np.sqrt(n)\n",
    "\n",
    "plt.figure(figsize=(10,6))\n",
    "\n",
    "x1=np.arange(m1-4*se,m1+4*se,0.01)\n",
    "y1= stats.norm.pdf(np.arange(m1-4*se,m1+4*se,0.01),loc=m1,scale=se)\n",
    "plt.plot(x1,y1)\n",
    "\n",
    "x2=np.arange(m2-4*se,m2+4*se,0.01)\n",
    "y2= stats.norm.pdf(np.arange(m2-4*se,m2+4*se,0.01),loc=m2,scale=se)\n",
    "plt.plot(x2,y2)\n",
    "\n",
    "\n",
    "plt.fill_between(x=np.arange(m1+thr*se,m1+4*se,0.01), \n",
    "                 y1= stats.norm.pdf(np.arange(m1+thr*se,m1+4*se,0.01),loc=m1,scale=se),\n",
    "                 facecolor='red', alpha=0.35)\n",
    "\n",
    "plt.fill_between(x=np.arange(m2-4*se,m1+thr*se,0.01),\n",
    "                 y1= stats.norm.pdf(np.arange(m2-4*se,m1+thr*se,0.01),loc=m2,scale=se),\n",
    "                 facecolor='blue', alpha=0.35)\n",
    "\n",
    "plt.text(x=m1-se, y=0.12, s= \"Null Hypothesis\")\n",
    "plt.text(x=m1-se, y=0.1, s= 'Fail to Reject the null ')\n",
    "plt.text(x=m1-se, y=0.08, s=r'$1- \\alpha$')\n",
    "plt.text(x=m2-.5*se, y=0.12, s= \"Alternative Hypothesis\")\n",
    "plt.text(x=m2-.5*se, y=0.1, s= 'Power ' r'$1-\\beta$')\n",
    "plt.text(x=m2-se, y=0.01, s= \"Type 1 Error\")\n",
    "plt.text(x=m1+.5*se, y=0.01, s= \"Type 2 Error\")\n",
    "plt.show()"
   ]
  },
  {
   "cell_type": "code",
   "execution_count": null,
   "metadata": {},
   "outputs": [],
   "source": [
    "# calculate critical X on null distribution\n",
    "\n",
    "# we can go directly from p-value to a score (X) using ppf if we specify the loc and scale parameters\n",
    "\n",
    "x_crit = stats.norm.ppf(.95,loc=pop_mean, scale = se)\n",
    "x_crit.round(2)"
   ]
  },
  {
   "cell_type": "code",
   "execution_count": null,
   "metadata": {},
   "outputs": [],
   "source": [
    "# determine beta on alternative distribution\n",
    "\n",
    "mean_alt = 45\n",
    "\n",
    "beta = stats.norm.cdf(x_crit,loc=mean_alt,scale=se)\n",
    "beta.round(2)"
   ]
  },
  {
   "cell_type": "code",
   "execution_count": null,
   "metadata": {},
   "outputs": [],
   "source": [
    "# calculate power\n",
    "power = 1 - beta\n",
    "power.round(2)"
   ]
  },
  {
   "cell_type": "markdown",
   "metadata": {},
   "source": [
    "### Similar example with t-distribution.\n",
    "\n",
    "Let's repeat the process above using a t-distribution. We will use n = 15.\n",
    "\n",
    "Recall:  \n",
    "CDF: X-score --> p-value  \n",
    "PPF: p-value --> X-score  \n",
    "\n",
    "stats.norm.cdf(X, loc, scale)  \n",
    "stats.t.cdf(X, df, loc, scale)  \n",
    "\n",
    "stats.norm.ppf(pval, loc, scale)  \n",
    "stats.t.ppf(pval, df, loc, scale)"
   ]
  },
  {
   "cell_type": "code",
   "execution_count": null,
   "metadata": {},
   "outputs": [],
   "source": [
    "n = 15\n",
    "pop_mean = 40 \n",
    "\n",
    "m1 = 40\n",
    "m2 = 45\n",
    "sample_std=10\n",
    "\n",
    "se = sample_std / np.sqrt(n)"
   ]
  },
  {
   "cell_type": "code",
   "execution_count": null,
   "metadata": {},
   "outputs": [],
   "source": [
    "# calculate critical X on null distribution\n",
    "x_crit = stats.t.ppf(.95, df=n-1, loc=pop_mean, scale=se)\n",
    "x_crit.round(2)"
   ]
  },
  {
   "cell_type": "code",
   "execution_count": null,
   "metadata": {},
   "outputs": [],
   "source": [
    "# determine beta on alternative distribution\n",
    "mean_alt = 45\n",
    "beta = stats.t.cdf(x_crit, df=n-1, loc=mean_alt, scale=se)\n",
    "beta.round(2)"
   ]
  },
  {
   "cell_type": "code",
   "execution_count": null,
   "metadata": {},
   "outputs": [],
   "source": [
    "# calculate power\n",
    "power = 1 - beta\n",
    "power.round(2)"
   ]
  },
  {
   "cell_type": "markdown",
   "metadata": {},
   "source": [
    "## Statistics professor example"
   ]
  },
  {
   "cell_type": "code",
   "execution_count": null,
   "metadata": {},
   "outputs": [],
   "source": [
    "def sample_std(scores):\n",
    "    return np.sqrt(np.sum((scores - scores.mean())**2)/(np.shape(scores)[0]-1))\n",
    "\n",
    "scores = np.array([65, 65, 70, 67, 66, 63, 63, 68, 72, 71])\n",
    "n = np.shape(scores)[0]\n",
    "\n",
    "t = (np.mean(scores) - 65) / (sample_std(scores) / np.sqrt(n))\n",
    "print('t =', np.round(t,2))\n",
    "print('p =', np.round(1-stats.t.cdf(t,df=n-1), 4))"
   ]
  }
 ],
 "metadata": {
  "kernelspec": {
   "display_name": "Python 3",
   "language": "python",
   "name": "python3"
  }
 },
 "nbformat": 4,
 "nbformat_minor": 2
}
