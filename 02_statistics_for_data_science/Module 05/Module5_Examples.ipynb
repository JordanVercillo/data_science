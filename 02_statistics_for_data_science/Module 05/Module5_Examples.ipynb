{
 "cells": [
  {
   "cell_type": "markdown",
   "metadata": {},
   "source": [
    "# Module 5 Webinar Examples"
   ]
  },
  {
   "cell_type": "code",
   "execution_count": 1,
   "metadata": {},
   "outputs": [],
   "source": [
    "# import packages\n",
    "import numpy as np\n",
    "import pandas as pd\n",
    "import matplotlib as mpl\n",
    "from matplotlib import pyplot as plt\n",
    "import seaborn as sns\n",
    "from scipy import stats\n",
    "from scipy.stats import binom\n",
    "import math\n",
    "import warnings\n",
    "\n",
    "warnings.filterwarnings('ignore')\n",
    "sns.set_context('paper')\n",
    "%matplotlib inline\n",
    "\n",
    "import matplotlib.pylab as pylab\n",
    "params = {'legend.fontsize': 'large',\n",
    "          'figure.figsize': (15, 5),\n",
    "         'axes.labelsize': 'x-large',\n",
    "         'axes.titlesize':'x-large',\n",
    "         'xtick.labelsize':'large',\n",
    "         'ytick.labelsize':'large'}\n",
    "pylab.rcParams.update(params)"
   ]
  },
  {
   "cell_type": "markdown",
   "metadata": {},
   "source": [
    "## Independent samples t-test"
   ]
  },
  {
   "cell_type": "code",
   "execution_count": 2,
   "metadata": {},
   "outputs": [
    {
     "name": "stdout",
     "output_type": "stream",
     "text": [
      "t = -1.42\n",
      "p = 0.1728\n"
     ]
    }
   ],
   "source": [
    "scores1 = np.array([65, 65, 70, 67, 66, 63, 63, 68, 72, 71])\n",
    "scores2 = np.array([66, 67, 70, 65, 68, 69, 66, 71, 74, 75])\n",
    "\n",
    "t, p = stats.ttest_ind(scores1,scores2) # two-tailed test\n",
    "print('t =', np.round(t,2))\n",
    "print('p =', np.round(p,4))"
   ]
  },
  {
   "cell_type": "markdown",
   "metadata": {},
   "source": [
    "## repeated measures t-test example"
   ]
  },
  {
   "cell_type": "code",
   "execution_count": 7,
   "metadata": {},
   "outputs": [],
   "source": [
    "# repeated measures t-test example\n",
    "df = pd.DataFrame()\n",
    "df['before'] = np.array([6.6, 6.5, 9.0, 10.3, 11.3, 8.1, 6.3, 11.6])\n",
    "df['after'] = np.array([6.8, 2.4, 7.4, 8.5, 8.1, 6.1, 3.4, 2.0])\n",
    "df['diff'] = df['after'] - df['before']"
   ]
  },
  {
   "cell_type": "code",
   "execution_count": 8,
   "metadata": {},
   "outputs": [
    {
     "data": {
      "text/html": [
       "<div>\n",
       "<style scoped>\n",
       "    .dataframe tbody tr th:only-of-type {\n",
       "        vertical-align: middle;\n",
       "    }\n",
       "\n",
       "    .dataframe tbody tr th {\n",
       "        vertical-align: top;\n",
       "    }\n",
       "\n",
       "    .dataframe thead th {\n",
       "        text-align: right;\n",
       "    }\n",
       "</style>\n",
       "<table border=\"1\" class=\"dataframe\">\n",
       "  <thead>\n",
       "    <tr style=\"text-align: right;\">\n",
       "      <th></th>\n",
       "      <th>before</th>\n",
       "      <th>after</th>\n",
       "      <th>diff</th>\n",
       "    </tr>\n",
       "  </thead>\n",
       "  <tbody>\n",
       "    <tr>\n",
       "      <th>0</th>\n",
       "      <td>6.6</td>\n",
       "      <td>6.8</td>\n",
       "      <td>0.2</td>\n",
       "    </tr>\n",
       "    <tr>\n",
       "      <th>1</th>\n",
       "      <td>6.5</td>\n",
       "      <td>2.4</td>\n",
       "      <td>-4.1</td>\n",
       "    </tr>\n",
       "    <tr>\n",
       "      <th>2</th>\n",
       "      <td>9.0</td>\n",
       "      <td>7.4</td>\n",
       "      <td>-1.6</td>\n",
       "    </tr>\n",
       "    <tr>\n",
       "      <th>3</th>\n",
       "      <td>10.3</td>\n",
       "      <td>8.5</td>\n",
       "      <td>-1.8</td>\n",
       "    </tr>\n",
       "    <tr>\n",
       "      <th>4</th>\n",
       "      <td>11.3</td>\n",
       "      <td>8.1</td>\n",
       "      <td>-3.2</td>\n",
       "    </tr>\n",
       "    <tr>\n",
       "      <th>5</th>\n",
       "      <td>8.1</td>\n",
       "      <td>6.1</td>\n",
       "      <td>-2.0</td>\n",
       "    </tr>\n",
       "    <tr>\n",
       "      <th>6</th>\n",
       "      <td>6.3</td>\n",
       "      <td>3.4</td>\n",
       "      <td>-2.9</td>\n",
       "    </tr>\n",
       "    <tr>\n",
       "      <th>7</th>\n",
       "      <td>11.6</td>\n",
       "      <td>2.0</td>\n",
       "      <td>-9.6</td>\n",
       "    </tr>\n",
       "  </tbody>\n",
       "</table>\n",
       "</div>"
      ],
      "text/plain": [
       "   before  after  diff\n",
       "0     6.6    6.8   0.2\n",
       "1     6.5    2.4  -4.1\n",
       "2     9.0    7.4  -1.6\n",
       "3    10.3    8.5  -1.8\n",
       "4    11.3    8.1  -3.2\n",
       "5     8.1    6.1  -2.0\n",
       "6     6.3    3.4  -2.9\n",
       "7    11.6    2.0  -9.6"
      ]
     },
     "execution_count": 8,
     "metadata": {},
     "output_type": "execute_result"
    }
   ],
   "source": [
    "df"
   ]
  },
  {
   "cell_type": "code",
   "execution_count": 9,
   "metadata": {},
   "outputs": [
    {
     "name": "stdout",
     "output_type": "stream",
     "text": [
      "mean =  -3.125\n",
      "stdev =  2.9114306743298166\n",
      "df =  7\n",
      "\n",
      "manual calculation:\n",
      "t-score =  -3.04\n",
      "p-value =  0.0095\n",
      "\n",
      "scipy stats:\n",
      "t-score =  -3.04\n",
      "p-value =  0.0095\n"
     ]
    }
   ],
   "source": [
    "print('mean = ', df['diff'].mean())\n",
    "print('stdev = ', df['diff'].std())\n",
    "n = df['diff'].shape[0]\n",
    "print('df = ', n - 1)\n",
    "\n",
    "print('\\nmanual calculation:')\n",
    "tscore = df['diff'].mean() / (df['diff'].std()/np.sqrt(n))\n",
    "print('t-score = ', np.round(tscore,2))\n",
    "print('p-value = ', stats.t.cdf(tscore, df=7).round(4))\n",
    "\n",
    "print('\\nscipy stats:')\n",
    "res = stats.ttest_rel(df['after'], df['before'])\n",
    "print('t-score = ', res.statistic.round(2))\n",
    "print('p-value = ', np.round(res.pvalue/2,4)) # ttest_rel automatically does 2-tailed test"
   ]
  },
  {
   "cell_type": "markdown",
   "metadata": {},
   "source": [
    "# Introduction to Inference for Categorical Variables"
   ]
  },
  {
   "cell_type": "code",
   "execution_count": 3,
   "metadata": {},
   "outputs": [
    {
     "data": {
      "image/png": "[encoded data removed]",
      "text/plain": [
       "<Figure size 432x288 with 2 Axes>"
      ]
     },
     "metadata": {
      "needs_background": "light"
     },
     "output_type": "display_data"
    }
   ],
   "source": [
    "# plot binomial distribution\n",
    "\n",
    "n = 50\n",
    "p= .2\n",
    "c = 'ro'\n",
    "\n",
    "# first way \n",
    "x = np.arange(binom.ppf(0.001, n, p),binom.ppf(.999, n, p))\n",
    "y1 = binom.pmf(x, n, p)\n",
    "\n",
    "# second way\n",
    "rv = binom(n, p)\n",
    "y2 = rv.pmf(x)\n",
    "\n",
    "fig, ax = plt.subplots(figsize=(6,4))\n",
    "\n",
    "ax.plot(x, y1, c, ms=5, label='n = {}, p = {}'.format(n,p))\n",
    "ax.vlines(x, 0, y1, colors='k', lw=3, alpha=0.5)\n",
    "ax.set_xlabel(\"Count\")\n",
    "\n",
    "xticks = ax.get_xticks()[1:-1]\n",
    "#ax.set_xlim(xticks[0], xticks[-1])\n",
    "\n",
    "ax2 = ax.twiny()\n",
    "\n",
    "new_tick_locations = np.array([.2, .5, .9])\n",
    "\n",
    "def tick_function(x,n):\n",
    "    V = x/n\n",
    "    return [\"%.2f\" % z for z in V]\n",
    "\n",
    "ax2.set_xlim(ax.get_xlim())\n",
    "ax2.set_xticks(xticks)\n",
    "ax2.set_xticklabels(tick_function(xticks,n))\n",
    "ax2.set_xlabel(\"Proportion\")\n",
    "\n",
    "ax.legend(loc='best', frameon=False)\n",
    "plt.show()"
   ]
  },
  {
   "cell_type": "code",
   "execution_count": 20,
   "metadata": {},
   "outputs": [
    {
     "name": "stdout",
     "output_type": "stream",
     "text": [
      "10.0 8.0\n"
     ]
    }
   ],
   "source": [
    "# print the mean and variance of the distribution\n",
    "\n",
    "mean = n*p\n",
    "var = n*p*(1-p)\n",
    "print(mean,var)"
   ]
  },
  {
   "cell_type": "code",
   "execution_count": 21,
   "metadata": {},
   "outputs": [
    {
     "name": "stdout",
     "output_type": "stream",
     "text": [
      "10.0 8.0\n"
     ]
    }
   ],
   "source": [
    "# we can also calculate this using binom.stats:\n",
    "\n",
    "mean, var = binom.stats(n, p)\n",
    "print(mean, var)"
   ]
  },
  {
   "cell_type": "markdown",
   "metadata": {},
   "source": [
    "## Example: Chequing account fees\n",
    "\n",
    "Sara believes that 50% of bank customers pay fees on their chequing accounts. She performs a hypothesis test to determine if the percentage is the same or different from 50%. She samples 100 customers and 53 reply that they do pay fees on their accounts. For her hypothesis test, she uses a 1% significance level."
   ]
  },
  {
   "cell_type": "markdown",
   "metadata": {},
   "source": [
    "We will write a custom z-test function, because the python function called `ztest_proportion` uses the sample proportion, when it should be using the population proportion that is proposed in the null hypothesis."
   ]
  },
  {
   "cell_type": "code",
   "execution_count": 4,
   "metadata": {},
   "outputs": [],
   "source": [
    "def ztest_prop_custom(x,n,p,tail):\n",
    "    \n",
    "    # check success-failure condition\n",
    "    if n*p < 10 or n*(1-p) < 10:\n",
    "        print('Success-failure condition not met. Do not use this test.')\n",
    "        return\n",
    "    z = (x/n - p) / np.sqrt((p *(1-p))/n)\n",
    "    if tail == 'left':\n",
    "        p = stats.norm.cdf(z)\n",
    "    elif tail == 'right':\n",
    "        p = 1 - stats.norm.cdf(z)\n",
    "    elif tail == 'two':\n",
    "        p = 2* stats.norm.cdf(-np.abs(z))\n",
    "    else:\n",
    "        print(\"tail should be 'left', 'right' or 'two'\")\n",
    "        return\n",
    "        \n",
    "    return np.round(z,4), np.round(p,4)"
   ]
  },
  {
   "cell_type": "code",
   "execution_count": 6,
   "metadata": {},
   "outputs": [
    {
     "data": {
      "text/plain": [
       "(0.6, 0.5485)"
      ]
     },
     "execution_count": 6,
     "metadata": {},
     "output_type": "execute_result"
    }
   ],
   "source": [
    "ztest_prop_custom(53,100,0.5,'two')"
   ]
  },
  {
   "cell_type": "markdown",
   "metadata": {},
   "source": [
    "# Example: campaign offer"
   ]
  },
  {
   "cell_type": "code",
   "execution_count": 7,
   "metadata": {},
   "outputs": [
    {
     "data": {
      "text/plain": [
       "(2.3163, 0.0205)"
      ]
     },
     "execution_count": 7,
     "metadata": {},
     "output_type": "execute_result"
    }
   ],
   "source": [
    "ztest_prop_custom(17,42,0.25,'two')"
   ]
  },
  {
   "cell_type": "code",
   "execution_count": 8,
   "metadata": {},
   "outputs": [],
   "source": [
    "def se_ci(x,n):\n",
    "    se =  np.sqrt((x/n)*(1-x/n)/n)\n",
    "    return se"
   ]
  },
  {
   "cell_type": "code",
   "execution_count": 9,
   "metadata": {},
   "outputs": [
    {
     "name": "stdout",
     "output_type": "stream",
     "text": [
      "0.25631313569648934 0.5532106738273201\n"
     ]
    }
   ],
   "source": [
    "se = se_ci(17,42)\n",
    "z_crit = 1.96\n",
    "lcl = 17/42 - z_crit*se\n",
    "hcl = 17/42 + z_crit*se\n",
    "print(lcl, hcl)"
   ]
  },
  {
   "cell_type": "markdown",
   "metadata": {},
   "source": [
    "# Example: 2 proportions"
   ]
  },
  {
   "cell_type": "code",
   "execution_count": 5,
   "metadata": {},
   "outputs": [],
   "source": [
    "# write our own function\n",
    "\n",
    "def ztest_2prop(x1, n1, x2, n2, tail):\n",
    "    ppool = (x1+x2) / (n1+n2)\n",
    "    prop1 = x1/n1\n",
    "    prop2 = x2/n2\n",
    "    \n",
    "    z = (prop1 - prop2) / np.sqrt(ppool*(1-ppool) * (1/n1 + 1/n2))\n",
    "    \n",
    "    if tail == 'left':\n",
    "        p = stats.norm.cdf(z)\n",
    "    elif tail == 'right':\n",
    "        p = 1 - stats.norm.cdf(z)\n",
    "    elif tail == 'two':\n",
    "        p = 2* stats.norm.cdf(-np.abs(z))\n",
    "    else:\n",
    "        print(\"tail should be 'left', 'right' or 'two'\")\n",
    "        return\n",
    "    \n",
    "    return np.round(z,4), np.round(p,4)"
   ]
  },
  {
   "cell_type": "code",
   "execution_count": 6,
   "metadata": {},
   "outputs": [
    {
     "data": {
      "text/plain": [
       "(1.4744, 0.1404)"
      ]
     },
     "execution_count": 6,
     "metadata": {},
     "output_type": "execute_result"
    }
   ],
   "source": [
    "ztest_2prop(20,200,12,200, 'two')"
   ]
  },
  {
   "cell_type": "code",
   "execution_count": 14,
   "metadata": {},
   "outputs": [
    {
     "name": "stdout",
     "output_type": "stream",
     "text": [
      "z statistic = 1.47\n",
      "p-value = 0.14\n"
     ]
    }
   ],
   "source": [
    "# using statsmodels function\n",
    "\n",
    "from statsmodels.stats.proportion import proportions_ztest\n",
    "\n",
    "successes = np.array([20, 12])\n",
    "nobs = np.array([200, 200])\n",
    "\n",
    "stat, pval = proportions_ztest(successes, nobs)\n",
    "\n",
    "print('z statistic = %.2f' %stat)\n",
    "print('p-value = %.2f' %pval)"
   ]
  }
 ],
 "metadata": {
  "kernelspec": {
   "display_name": "Python 3",
   "language": "python",
   "name": "python3"
  },
  "language_info": {
   "codemirror_mode": {
    "name": "ipython",
    "version": 3
   },
   "file_extension": ".py",
   "mimetype": "text/x-python",
   "name": "python",
   "nbconvert_exporter": "python",
   "pygments_lexer": "ipython3",
   "version": "3.6.11"
  }
 },
 "nbformat": 4,
 "nbformat_minor": 2
}
