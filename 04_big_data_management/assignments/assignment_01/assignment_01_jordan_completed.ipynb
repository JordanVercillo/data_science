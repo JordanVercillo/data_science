{
 "cells": [
  {
   "cell_type": "code",
   "execution_count": 1,
   "id": "12867d66",
   "metadata": {},
   "outputs": [],
   "source": [
    "import requests\n",
    "import os\n",
    "import shutil\n",
    "import sqlite3\n",
    "import pandas as pd\n",
    "from time import sleep\n",
    "\n",
    "# Code for grabbing our sqlite file off the internet\n",
    "global dump\n",
    "\n",
    "\"\"\"\n",
    "Used to download the Chinook database.\n",
    "\"\"\"\n",
    "def download_file():\n",
    "    global dump\n",
    "    url = \"https://github.com/lerocha/chinook-database/raw/master/ChinookDatabase/DataSources/Chinook_Sqlite.sqlite\"\n",
    "    dump = requests.get(url, stream=True).raw\n",
    "\n",
    "'''\n",
    "Used to save the downloaded Chinook Database into an sqlite database file.\n",
    "'''\n",
    "def save_file():\n",
    "    global dump\n",
    "    location = os.path.relpath(\"exampledb.sqlite\")\n",
    "    with open(\"exampledb.sqlite\", 'wb') as location:\n",
    "        shutil.copyfileobj(dump, location)\n",
    "    del dump"
   ]
  },
  {
   "cell_type": "code",
   "execution_count": 2,
   "id": "89074b5c",
   "metadata": {},
   "outputs": [],
   "source": [
    "\"\"\"\n",
    "This code snippet downloads the Chinook database, connects to it, and prepares for queries to be executed.\n",
    "\"\"\"\n",
    "# Grabbing copy of database\n",
    "download_file()\n",
    "# Saving copy of database to a local file\n",
    "save_file()\n",
    "# Create a connection object that represents a database    \n",
    "conn = sqlite3.connect(\"exampledb.sqlite\")\n",
    "# Once the connection to the database is opened, we create a Cursor object to execute queries\n",
    "c = conn.cursor()"
   ]
  },
  {
   "cell_type": "code",
   "execution_count": 6,
   "id": "6d49cde4",
   "metadata": {},
   "outputs": [
    {
     "name": "stdout",
     "output_type": "stream",
     "text": [
      "[('Album',), ('Artist',), ('Customer',), ('Employee',), ('Genre',), ('Invoice',), ('InvoiceLine',), ('MediaType',), ('Playlist',), ('PlaylistTrack',), ('Track',)]\n"
     ]
    }
   ],
   "source": [
    "c.execute(\"SELECT name FROM sqlite_master WHERE type='table';\")\n",
    "print(c.fetchall())"
   ]
  },
  {
   "cell_type": "code",
   "execution_count": 9,
   "id": "4ccafdd4",
   "metadata": {},
   "outputs": [
    {
     "name": "stdout",
     "output_type": "stream",
     "text": [
      "{'CustomerId': 1, 'FirstName': 'Luís', 'LastName': 'Gonçalves', 'Company': 'Embraer - Empresa Brasileira de Aeronáutica S.A.', 'Address': 'Av. Brigadeiro Faria Lima, 2170', 'City': 'São José dos Campos', 'State': 'SP', 'Country': 'Brazil', 'PostalCode': '12227-000', 'Phone': '+55 (12) 3923-5555', 'Fax': '+55 (12) 3923-5566', 'Email': 'luisg@embraer.com.br', 'SupportRepId': 3}\n"
     ]
    }
   ],
   "source": [
    "c.execute(\"\"\"\n",
    "    SELECT * FROM customer\n",
    "    LIMIT 1\n",
    "\"\"\")\n",
    "\n",
    "rows = c.fetchall()\n",
    "columns = [desc[0] for desc in c.description]\n",
    "\n",
    "# Combine headings with data for readability\n",
    "for row in rows:\n",
    "    print(dict(zip(columns, row)))"
   ]
  },
  {
   "cell_type": "code",
   "execution_count": 11,
   "id": "d824983b",
   "metadata": {},
   "outputs": [
    {
     "data": {
      "text/plain": [
       "[('JohannesVan der Berg', None, 'Amsterdam', 'VV'),\n",
       " ('PujaSrivastava', None, 'Bangalore', None),\n",
       " ('HannahSchneider', None, 'Berlin', None),\n",
       " ('NiklasSchröder', None, 'Berlin', None),\n",
       " ('WyattGirard', None, 'Bordeaux', None),\n",
       " ('JohnGordon', None, 'Boston', 'MA'),\n",
       " ('FernandaRamos', None, 'Brasília', 'DF'),\n",
       " ('DaanPeeters', None, 'Brussels', None),\n",
       " ('LadislavKovács', None, 'Budapest', None),\n",
       " ('DiegoGutiérrez', None, 'Buenos Aires', None),\n",
       " ('FrankRalston', None, 'Chicago', 'IL'),\n",
       " ('KaraNielsen', None, 'Copenhagen', None),\n",
       " ('TimGoyer', 'Apple Inc.', 'Cupertino', 'CA'),\n",
       " ('ManojPareek', None, 'Delhi', None),\n",
       " ('IsabelleMercier', None, 'Dijon', None),\n",
       " (\"HughO'Reilly\", None, 'Dublin', 'Dublin'),\n",
       " ('SteveMurray', None, 'Edinburgh ', None),\n",
       " ('MarkPhilips', 'Telus', 'Edmonton', 'AB'),\n",
       " ('RichardCunningham', None, 'Fort Worth', 'TX'),\n",
       " ('FynnZimmermann', None, 'Frankfurt', None),\n",
       " ('MarthaSilk', None, 'Halifax', 'NS'),\n",
       " ('TerhiHämäläinen', None, 'Helsinki', None),\n",
       " ('JoãoFernandes', None, 'Lisbon', None),\n",
       " ('EmmaJones', None, 'London', None),\n",
       " ('PhilHughes', None, 'London', None),\n",
       " ('MarcDubois', None, 'Lyon', None),\n",
       " ('VictorStevens', None, 'Madison', 'WI'),\n",
       " ('EnriqueMuñoz', None, 'Madrid', None),\n",
       " ('FrançoisTremblay', None, 'Montréal', 'QC'),\n",
       " ('FrankHarris', 'Google Inc.', 'Mountain View', 'CA'),\n",
       " ('DanMiller', None, 'Mountain View', 'CA'),\n",
       " ('MichelleBrooks', None, 'New York', 'NY'),\n",
       " ('HeatherLeacock', None, 'Orlando', 'FL'),\n",
       " ('BjørnHansen', None, 'Oslo', None),\n",
       " ('EdwardFrancis', None, 'Ottawa', 'ON'),\n",
       " ('CamilleBernard', None, 'Paris', None),\n",
       " ('DominiqueLefebvre', None, 'Paris', None),\n",
       " ('MadalenaSampaio', None, 'Porto', None),\n",
       " ('FrantišekWichterlová', 'JetBrains s.r.o.', 'Prague', None),\n",
       " ('HelenaHolý', None, 'Prague', None),\n",
       " ('JackSmith', 'Microsoft Corporation', 'Redmond', 'WA'),\n",
       " ('KathyChase', None, 'Reno', 'NV'),\n",
       " ('RobertoAlmeida', 'Riotur', 'Rio de Janeiro', 'RJ'),\n",
       " ('LucasMancini', None, 'Rome', 'RM'),\n",
       " ('JuliaBarnett', None, 'Salt Lake City', 'UT'),\n",
       " ('LuisRojas', None, 'Santiago', None),\n",
       " ('MarkTaylor', None, 'Sidney', 'NSW'),\n",
       " ('JoakimJohansson', None, 'Stockholm', None),\n",
       " ('LeonieKöhler', None, 'Stuttgart', None),\n",
       " ('LuísGonçalves',\n",
       "  'Embraer - Empresa Brasileira de Aeronáutica S.A.',\n",
       "  'São José dos Campos',\n",
       "  'SP'),\n",
       " ('EduardoMartins', 'Woodstock Discos', 'São Paulo', 'SP'),\n",
       " ('AlexandreRocha', 'Banco do Brasil S.A.', 'São Paulo', 'SP'),\n",
       " ('RobertBrown', None, 'Toronto', 'ON'),\n",
       " ('PatrickGray', None, 'Tucson', 'AZ'),\n",
       " ('JenniferPeterson', 'Rogers Canada', 'Vancouver', 'BC'),\n",
       " ('AstridGruber', None, 'Vienne', None),\n",
       " ('StanisławWójcik', None, 'Warsaw', None),\n",
       " ('AaronMitchell', None, 'Winnipeg', 'MB'),\n",
       " ('EllieSullivan', None, 'Yellowknife', 'NT')]"
      ]
     },
     "execution_count": 11,
     "metadata": {},
     "output_type": "execute_result"
    }
   ],
   "source": [
    "c.execute(\"\"\"\n",
    "          \n",
    "SELECT \n",
    "    FirstName || LastName AS FullName,\n",
    "    Company,\n",
    "    City,\n",
    "    State\n",
    "FROM customer  \n",
    "Order By City\n",
    "          \n",
    "\"\"\")\n",
    "\n",
    "c.fetchall()"
   ]
  },
  {
   "cell_type": "code",
   "execution_count": null,
   "id": "adf0c3f4",
   "metadata": {},
   "outputs": [
    {
     "data": {
      "text/plain": [
       "[('JohnGordon', None, 'Boston', 'MA'),\n",
       " ('FrankRalston', None, 'Chicago', 'IL'),\n",
       " ('TimGoyer', 'Apple Inc.', 'Cupertino', 'CA'),\n",
       " ('MarkPhilips', 'Telus', 'Edmonton', 'AB'),\n",
       " ('RichardCunningham', None, 'Fort Worth', 'TX'),\n",
       " ('MarthaSilk', None, 'Halifax', 'NS'),\n",
       " ('VictorStevens', None, 'Madison', 'WI'),\n",
       " ('FrançoisTremblay', None, 'Montréal', 'QC'),\n",
       " ('FrankHarris', 'Google Inc.', 'Mountain View', 'CA'),\n",
       " ('DanMiller', None, 'Mountain View', 'CA'),\n",
       " ('MichelleBrooks', None, 'New York', 'NY'),\n",
       " ('HeatherLeacock', None, 'Orlando', 'FL'),\n",
       " ('EdwardFrancis', None, 'Ottawa', 'ON'),\n",
       " ('JackSmith', 'Microsoft Corporation', 'Redmond', 'WA'),\n",
       " ('KathyChase', None, 'Reno', 'NV'),\n",
       " ('JuliaBarnett', None, 'Salt Lake City', 'UT'),\n",
       " ('RobertBrown', None, 'Toronto', 'ON'),\n",
       " ('PatrickGray', None, 'Tucson', 'AZ'),\n",
       " ('JenniferPeterson', 'Rogers Canada', 'Vancouver', 'BC'),\n",
       " ('AaronMitchell', None, 'Winnipeg', 'MB'),\n",
       " ('EllieSullivan', None, 'Yellowknife', 'NT')]"
      ]
     },
     "execution_count": 17,
     "metadata": {},
     "output_type": "execute_result"
    }
   ],
   "source": [
    "c.execute(\"\"\"\n",
    "          \n",
    "SELECT \n",
    "    FirstName || LastName AS FullName,\n",
    "    Company,\n",
    "    City,\n",
    "    State\n",
    "FROM customer  \n",
    "WHERE Country in ('USA', 'Canada')\n",
    "Order By City\n",
    "          \n",
    "\"\"\")\n",
    "\n",
    "c.fetchall()"
   ]
  },
  {
   "cell_type": "code",
   "execution_count": 18,
   "id": "8ca68282",
   "metadata": {},
   "outputs": [
    {
     "data": {
      "text/plain": [
       "[('DanMiller', None, 'Mountain View', 'CA'),\n",
       " ('AaronMitchell', None, 'Winnipeg', 'MB')]"
      ]
     },
     "execution_count": 18,
     "metadata": {},
     "output_type": "execute_result"
    }
   ],
   "source": [
    "c.execute(\"\"\"\n",
    "          \n",
    "SELECT \n",
    "    FirstName || LastName AS FullName,\n",
    "    Company,\n",
    "    City,\n",
    "    State\n",
    "FROM customer  \n",
    "WHERE Country in ('USA', 'Canada')\n",
    "          AND LastName LIKE 'M%'\n",
    "Order By City\n",
    "          \n",
    "\"\"\")\n",
    "\n",
    "c.fetchall()"
   ]
  }
 ],
 "metadata": {
  "kernelspec": {
   "display_name": "base",
   "language": "python",
   "name": "python3"
  },
  "language_info": {
   "codemirror_mode": {
    "name": "ipython",
    "version": 3
   },
   "file_extension": ".py",
   "mimetype": "text/x-python",
   "name": "python",
   "nbconvert_exporter": "python",
   "pygments_lexer": "ipython3",
   "version": "3.12.7"
  }
 },
 "nbformat": 4,
 "nbformat_minor": 5
}
