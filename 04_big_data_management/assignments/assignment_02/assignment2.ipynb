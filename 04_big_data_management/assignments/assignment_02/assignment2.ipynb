{
 "cells": [
  {
   "cell_type": "markdown",
   "metadata": {
    "colab_type": "text",
    "id": "QxDhTyclvzuz"
   },
   "source": [
    "## Assignment 2: MongoDB"
   ]
  },
  {
   "cell_type": "markdown",
   "metadata": {
    "colab_type": "text",
    "id": "JjUBX185vzu0"
   },
   "source": [
    "This assignment is based on content discussed in the Introduction to MongoDB module."
   ]
  },
  {
   "cell_type": "markdown",
   "metadata": {
    "colab_type": "text",
    "id": "Y5sVEZYQvzu1"
   },
   "source": [
    "## Learning outcomes "
   ]
  },
  {
   "cell_type": "markdown",
   "metadata": {
    "colab_type": "text",
    "id": "RNAMrxvpvzu1"
   },
   "source": [
    "The purpose of this assignment is for learners to be able to:\n",
    "- Familarize with JSON document syntax\n",
    "- Understand basic MongoDB CRUD operations\n",
    "- Understand MongoDB data pipelines to run aggregate queries"
   ]
  },
  {
   "cell_type": "markdown",
   "metadata": {
    "colab_type": "text",
    "id": "DB6Mhqwrvzu2"
   },
   "source": [
    "In this assignment, you will make use of the sample data provided.  \n",
    "\n",
    "This dataset has 3 collections: Employee, Workplace and Address.  You will import this data into your local MongoDB database.\n",
    "\n",
    "Required imports for this project are given below. Make sure you have all libraries required for this project installed. You may use conda or pip based on your set up."
   ]
  },
  {
   "cell_type": "markdown",
   "metadata": {
    "colab_type": "text",
    "id": "ZPXaQ47onjsR"
   },
   "source": [
    "## Setup Notes\n",
    "\n",
    "**Please note** These instructions are duplicated here for your reference. You would have encountered them in a previous module. It is expected that you have already taken the steps to set up and run MongoDB.\n",
    "\n",
    "We will be using MongoDB Community Edition.  The MongoDB database <b>MUST</b> be installed and running locally before continuing with this notebook.  We will need to install two packages using the Anaconda package manager:\n",
    "\n",
    "1. [Mongodb](https://www.mongodb.com/) - this package contains the mongodb database \n",
    "2. [PyMongo](https://www.mongodb.com/docs/drivers/pymongo/) - this package contains the python driver that will allow us to communicate with the mongodb database.\n",
    "\n",
    "#### Install\n",
    "\n",
    "1. Open a command line terminal and execute the following command to install mongodb.\n",
    "```console\n",
    "conda install -c anaconda mongodb\n",
    "```\n",
    "2. Open a command line terminal and execute the following command to install pymongo packge.\n",
    "```console\n",
    "conda install -c anaconda pymongo\n",
    "```\n",
    "\n",
    "#### Run Mongodb in Windows\n",
    "1. MongoDB requires a data directory to store all data. MongoDB’s default data directory path is \\data\\db. Create this folder using the following commands from a Command Prompt:\n",
    "```console\n",
    "md \\data\\db\n",
    "```\n",
    "\n",
    "2. To start MongoDB, run mongod.exe. For example, from the Command Prompt:\n",
    "```console\n",
    "\"C:\\Program Files\\MongoDB\\Server\\3.2\\bin\\mongod.exe\"\n",
    "```\n",
    "\n",
    "#### Run Mongodb in Mac\n",
    "1. MongoDB requires a data directory to store all data. MongoDB’s default data directory path is /data/db. Create this folder using the following commands from a Command Prompt.  Note that we run the command as a super user using the \"sudo\" command:\n",
    "```console\n",
    "sudo mkdir /data/db/\n",
    "```\n",
    "\n",
    "2. To start MongoDB, run mongod.exe. For example, from the Command Promp.  Note that we run the command as a super user using the \"sudo\" command:\n",
    "```console\n",
    "sudo mongod --config /usr/local/etc/mongod.conf\n",
    "```"
   ]
  },
  {
   "cell_type": "code",
   "execution_count": 1,
   "metadata": {
    "colab": {},
    "colab_type": "code",
    "id": "Gqxn8n27vzu3",
    "outputId": "7cf9a92e-d0d2-49d8-cfce-532dccb4e94a"
   },
   "outputs": [
    {
     "name": "stdout",
     "output_type": "stream",
     "text": [
      "Mongo version 4.13.0\n"
     ]
    }
   ],
   "source": [
    "#required imports\n",
    "import os\n",
    "import json\n",
    "import datetime\n",
    "import pymongo\n",
    "import pprint\n",
    "import pandas as pd\n",
    "import numpy as np\n",
    "from pymongo import MongoClient\n",
    "print('Mongo version', pymongo.__version__)"
   ]
  },
  {
   "cell_type": "markdown",
   "metadata": {
    "colab_type": "text",
    "id": "TeBZEImlnjsY"
   },
   "source": [
    "We first need to connect to our locally running MongoDB database (<b>Make sure your database is running on your machine</b>). We will use the MongoClient to connect to a local 'test' database that is running on port 27017 (this is the default port)."
   ]
  },
  {
   "cell_type": "code",
   "execution_count": 2,
   "metadata": {
    "colab": {},
    "colab_type": "code",
    "id": "UdtVCmGGnjsZ"
   },
   "outputs": [],
   "source": [
    "client = MongoClient('localhost', 27017)\n",
    "db = client.assignment1"
   ]
  },
  {
   "cell_type": "markdown",
   "metadata": {
    "colab_type": "text",
    "id": "2WW6r96Tvzu7"
   },
   "source": [
    "After installing necessary modules proceed to import the data into your database."
   ]
  },
  {
   "cell_type": "code",
   "execution_count": 5,
   "metadata": {},
   "outputs": [],
   "source": [
    "# Base path to your data\n",
    "base_path = r'C:\\Users\\jverc\\OneDrive\\02.DataScienceOD\\learn\\Big Data Management\\module_03'"
   ]
  },
  {
   "cell_type": "code",
   "execution_count": 17,
   "metadata": {
    "colab": {},
    "colab_type": "code",
    "id": "5VDnAuj6vzu7"
   },
   "outputs": [],
   "source": [
    "# Let's delete any existing collections in our database\n",
    "db.workplace.drop()\n",
    "db.address.drop()\n",
    "db.employee.drop()\n",
    "\n",
    "# Import our files into our three collections\n",
    "with open(f'{base_path}\\\\Employee.json') as f:\n",
    "    db.employee.insert_many(json.load(f))\n",
    "with open(f'{base_path}\\\\Workplace.json') as f:\n",
    "    db.workplace.insert_many(json.load(f))\n",
    "with open(f'{base_path}\\\\Address.json') as f:\n",
    "    db.address.insert_many(json.load(f))"
   ]
  },
  {
   "cell_type": "markdown",
   "metadata": {
    "colab_type": "text",
    "id": "3lL-abBuvzu9"
   },
   "source": [
    "#### Question 1 (10 Marks)\n",
    "\n",
    "The employee collection contains employee from different ages and interests.  Perform a simple query to list all employees that are less than or equal to 50 and like Cooking.\n",
    "\n",
    "__NOTE:__ the following shows the structure of an Employee document that will help you construct the query."
   ]
  },
  {
   "cell_type": "code",
   "execution_count": 18,
   "metadata": {
    "colab": {},
    "colab_type": "code",
    "id": "gqB8V6Xbnjsf",
    "outputId": "b757f86e-0d69-4e8c-e65d-4415e5a9cd57"
   },
   "outputs": [
    {
     "name": "stdout",
     "output_type": "stream",
     "text": [
      "{'_id': '9f39da36-82cc-4353-ab90-d616105fa7c1',\n",
      " 'address_id': 'b6c0b50a-d0e3-43bf-a2a4-8d4674c2a7e8',\n",
      " 'age': 40,\n",
      " 'email': 'ih@ri.ro',\n",
      " 'firstname': 'Emilie',\n",
      " 'interests': ['Bowling', 'Cooking', 'Golf', 'Swimming'],\n",
      " 'lastname': 'Woods',\n",
      " 'workplace_id': 'a32bf18d-e0e5-48f2-a851-aa49c80f9460'}\n"
     ]
    }
   ],
   "source": [
    "pprint.pprint(client.assignment1.employee.find_one())"
   ]
  },
  {
   "cell_type": "code",
   "execution_count": 19,
   "metadata": {
    "colab": {},
    "colab_type": "code",
    "id": "nRLVQgQQvzu9"
   },
   "outputs": [
    {
     "data": {
      "text/html": [
       "<div>\n",
       "<style scoped>\n",
       "    .dataframe tbody tr th:only-of-type {\n",
       "        vertical-align: middle;\n",
       "    }\n",
       "\n",
       "    .dataframe tbody tr th {\n",
       "        vertical-align: top;\n",
       "    }\n",
       "\n",
       "    .dataframe thead th {\n",
       "        text-align: right;\n",
       "    }\n",
       "</style>\n",
       "<table border=\"1\" class=\"dataframe\">\n",
       "  <thead>\n",
       "    <tr style=\"text-align: right;\">\n",
       "      <th></th>\n",
       "      <th>_id</th>\n",
       "      <th>firstname</th>\n",
       "      <th>lastname</th>\n",
       "      <th>age</th>\n",
       "      <th>interests</th>\n",
       "    </tr>\n",
       "  </thead>\n",
       "  <tbody>\n",
       "    <tr>\n",
       "      <th>0</th>\n",
       "      <td>9f39da36-82cc-4353-ab90-d616105fa7c1</td>\n",
       "      <td>Emilie</td>\n",
       "      <td>Woods</td>\n",
       "      <td>40</td>\n",
       "      <td>[Bowling, Cooking, Golf, Swimming]</td>\n",
       "    </tr>\n",
       "    <tr>\n",
       "      <th>1</th>\n",
       "      <td>af27265e-6639-49f2-991e-193275a4111a</td>\n",
       "      <td>Thomas</td>\n",
       "      <td>Patterson</td>\n",
       "      <td>18</td>\n",
       "      <td>[Cooking, Cricket, Tennis, Swimming, Fishing]</td>\n",
       "    </tr>\n",
       "    <tr>\n",
       "      <th>2</th>\n",
       "      <td>00289d48-bad8-4b73-a359-a1a1f05c96e2</td>\n",
       "      <td>Sophia</td>\n",
       "      <td>Flores</td>\n",
       "      <td>22</td>\n",
       "      <td>[Hiking, Soccer, Bowling, Rubgy, Cooking, Danc...</td>\n",
       "    </tr>\n",
       "    <tr>\n",
       "      <th>3</th>\n",
       "      <td>da76e52b-b3db-4fc0-b0d6-435d1aed0cd9</td>\n",
       "      <td>Ollie</td>\n",
       "      <td>Barnett</td>\n",
       "      <td>25</td>\n",
       "      <td>[Cooking, Bowling, Dancing]</td>\n",
       "    </tr>\n",
       "    <tr>\n",
       "      <th>4</th>\n",
       "      <td>51643cd6-49bb-45d5-bd6e-717c62bb2869</td>\n",
       "      <td>James</td>\n",
       "      <td>Wilkins</td>\n",
       "      <td>27</td>\n",
       "      <td>[Rubgy, Tennis, Cricket, Cooking]</td>\n",
       "    </tr>\n",
       "    <tr>\n",
       "      <th>5</th>\n",
       "      <td>f073a705-6546-4375-adb5-b224871776ef</td>\n",
       "      <td>Aaron</td>\n",
       "      <td>Carr</td>\n",
       "      <td>25</td>\n",
       "      <td>[Cooking]</td>\n",
       "    </tr>\n",
       "    <tr>\n",
       "      <th>6</th>\n",
       "      <td>457ef68c-9651-4925-bca0-15e246661d19</td>\n",
       "      <td>Alta</td>\n",
       "      <td>Sharp</td>\n",
       "      <td>34</td>\n",
       "      <td>[Cricket, Cycling, Rubgy, Golf, Cooking, Dancing]</td>\n",
       "    </tr>\n",
       "    <tr>\n",
       "      <th>7</th>\n",
       "      <td>840184a3-4c4d-4b15-8813-30fca6e7827b</td>\n",
       "      <td>Delia</td>\n",
       "      <td>Douglas</td>\n",
       "      <td>36</td>\n",
       "      <td>[Cricket, Cooking, Hiking, Dancing, Tennis]</td>\n",
       "    </tr>\n",
       "    <tr>\n",
       "      <th>8</th>\n",
       "      <td>6157dc3b-ee2d-463a-b62b-1cd4eed7d575</td>\n",
       "      <td>Dominic</td>\n",
       "      <td>Wade</td>\n",
       "      <td>48</td>\n",
       "      <td>[Cycling, Dancing, Cooking]</td>\n",
       "    </tr>\n",
       "    <tr>\n",
       "      <th>9</th>\n",
       "      <td>cc3e389d-be0d-467a-ba70-7c84f6504911</td>\n",
       "      <td>Myrtle</td>\n",
       "      <td>Little</td>\n",
       "      <td>36</td>\n",
       "      <td>[Cooking, Cycling, Hiking, Rubgy, Bowling, Dan...</td>\n",
       "    </tr>\n",
       "    <tr>\n",
       "      <th>10</th>\n",
       "      <td>c2bf0e3f-e3de-41de-b745-c5b70571dd3a</td>\n",
       "      <td>Jordan</td>\n",
       "      <td>Roberson</td>\n",
       "      <td>29</td>\n",
       "      <td>[Swimming, Cooking]</td>\n",
       "    </tr>\n",
       "    <tr>\n",
       "      <th>11</th>\n",
       "      <td>4bc070ca-f849-4eeb-8ab2-98fe3c0861c0</td>\n",
       "      <td>Francis</td>\n",
       "      <td>Harris</td>\n",
       "      <td>38</td>\n",
       "      <td>[Dancing, Swimming, Cooking, Bowling, Cycling]</td>\n",
       "    </tr>\n",
       "    <tr>\n",
       "      <th>12</th>\n",
       "      <td>66894dba-4ff0-4545-b7cc-eb6a5bd551c5</td>\n",
       "      <td>Clara</td>\n",
       "      <td>Butler</td>\n",
       "      <td>49</td>\n",
       "      <td>[Soccer, Cooking, Cycling]</td>\n",
       "    </tr>\n",
       "    <tr>\n",
       "      <th>13</th>\n",
       "      <td>581f59a2-ff4c-407e-b58f-e4f292208928</td>\n",
       "      <td>Rena</td>\n",
       "      <td>Johnson</td>\n",
       "      <td>33</td>\n",
       "      <td>[Cycling, Swimming, Soccer, Cooking]</td>\n",
       "    </tr>\n",
       "    <tr>\n",
       "      <th>14</th>\n",
       "      <td>b2a2ae86-f4f6-4da5-ade6-ee1cd135daf3</td>\n",
       "      <td>Gavin</td>\n",
       "      <td>Conner</td>\n",
       "      <td>49</td>\n",
       "      <td>[Rubgy, Cooking, Bowling]</td>\n",
       "    </tr>\n",
       "    <tr>\n",
       "      <th>15</th>\n",
       "      <td>2bfc0479-cb15-46e1-94fa-801404791b21</td>\n",
       "      <td>Peter</td>\n",
       "      <td>Jimenez</td>\n",
       "      <td>37</td>\n",
       "      <td>[Cooking, Swimming, Cricket]</td>\n",
       "    </tr>\n",
       "  </tbody>\n",
       "</table>\n",
       "</div>"
      ],
      "text/plain": [
       "                                     _id firstname   lastname  age  \\\n",
       "0   9f39da36-82cc-4353-ab90-d616105fa7c1    Emilie      Woods   40   \n",
       "1   af27265e-6639-49f2-991e-193275a4111a    Thomas  Patterson   18   \n",
       "2   00289d48-bad8-4b73-a359-a1a1f05c96e2    Sophia     Flores   22   \n",
       "3   da76e52b-b3db-4fc0-b0d6-435d1aed0cd9     Ollie    Barnett   25   \n",
       "4   51643cd6-49bb-45d5-bd6e-717c62bb2869     James    Wilkins   27   \n",
       "5   f073a705-6546-4375-adb5-b224871776ef     Aaron       Carr   25   \n",
       "6   457ef68c-9651-4925-bca0-15e246661d19      Alta      Sharp   34   \n",
       "7   840184a3-4c4d-4b15-8813-30fca6e7827b     Delia    Douglas   36   \n",
       "8   6157dc3b-ee2d-463a-b62b-1cd4eed7d575   Dominic       Wade   48   \n",
       "9   cc3e389d-be0d-467a-ba70-7c84f6504911    Myrtle     Little   36   \n",
       "10  c2bf0e3f-e3de-41de-b745-c5b70571dd3a    Jordan   Roberson   29   \n",
       "11  4bc070ca-f849-4eeb-8ab2-98fe3c0861c0   Francis     Harris   38   \n",
       "12  66894dba-4ff0-4545-b7cc-eb6a5bd551c5     Clara     Butler   49   \n",
       "13  581f59a2-ff4c-407e-b58f-e4f292208928      Rena    Johnson   33   \n",
       "14  b2a2ae86-f4f6-4da5-ade6-ee1cd135daf3     Gavin     Conner   49   \n",
       "15  2bfc0479-cb15-46e1-94fa-801404791b21     Peter    Jimenez   37   \n",
       "\n",
       "                                            interests  \n",
       "0                  [Bowling, Cooking, Golf, Swimming]  \n",
       "1       [Cooking, Cricket, Tennis, Swimming, Fishing]  \n",
       "2   [Hiking, Soccer, Bowling, Rubgy, Cooking, Danc...  \n",
       "3                         [Cooking, Bowling, Dancing]  \n",
       "4                   [Rubgy, Tennis, Cricket, Cooking]  \n",
       "5                                           [Cooking]  \n",
       "6   [Cricket, Cycling, Rubgy, Golf, Cooking, Dancing]  \n",
       "7         [Cricket, Cooking, Hiking, Dancing, Tennis]  \n",
       "8                         [Cycling, Dancing, Cooking]  \n",
       "9   [Cooking, Cycling, Hiking, Rubgy, Bowling, Dan...  \n",
       "10                                [Swimming, Cooking]  \n",
       "11     [Dancing, Swimming, Cooking, Bowling, Cycling]  \n",
       "12                         [Soccer, Cooking, Cycling]  \n",
       "13               [Cycling, Swimming, Soccer, Cooking]  \n",
       "14                          [Rubgy, Cooking, Bowling]  \n",
       "15                       [Cooking, Swimming, Cricket]  "
      ]
     },
     "execution_count": 19,
     "metadata": {},
     "output_type": "execute_result"
    }
   ],
   "source": [
    "# YOUR CODE HERE\n",
    "\n",
    "cursor = db.employee.find({\n",
    "                            \"age\": {\"$lt\": 50},\n",
    "                            \"interests\": \"Cooking\"\n",
    "    \n",
    "                            }, \n",
    "                            \n",
    "                        {\n",
    "                            \"firstname\",\"lastname\",\"age\", \"interests\"})\n",
    "\n",
    "# display results in a dataframe so that we can display results in a pretty table\n",
    "pd.DataFrame(list(cursor)) "
   ]
  },
  {
   "cell_type": "markdown",
   "metadata": {
    "colab_type": "text",
    "id": "HcLWsbNmvzvD"
   },
   "source": [
    "#### Question 2  (10 Marks)\n",
    "\n",
    "Insert a new Employee with the following properties:\n",
    "\n",
    "* First Name: Jake \n",
    "* Last Name: Sample\n",
    "* Email: jakesample@email.com\n",
    "* Age: 26\n",
    "* Interest: Biking, Hiking\n",
    "\n",
    "Also, this employee works for 'Union Planters Corp' and lives at '573 Wojhas Square, Victoria'.\n",
    "Verify that the insert succeeded and display the generated employees _id attribute.\n",
    "\n",
    "__HINT__ An Employee document references a Workplace and Address document"
   ]
  },
  {
   "cell_type": "code",
   "execution_count": 20,
   "metadata": {},
   "outputs": [
    {
     "name": "stdout",
     "output_type": "stream",
     "text": [
      "{'_id': '91b5b7b3-2309-4e8a-8247-cd66d626ef0c',\n",
      " 'address': '573 Wojhas Square',\n",
      " 'city': 'Victoria',\n",
      " 'postalcode': 'A7D 5A3',\n",
      " 'province': 'BC'}\n"
     ]
    }
   ],
   "source": [
    "pprint.pprint(client.assignment1.address.find_one())"
   ]
  },
  {
   "cell_type": "code",
   "execution_count": 21,
   "metadata": {},
   "outputs": [
    {
     "name": "stdout",
     "output_type": "stream",
     "text": [
      "{'_id': '5345fcb9-6297-4b9f-aa15-cbee8460f28f',\n",
      " 'address_id': '9949fe3b-99ec-4485-b91d-823925db7d28',\n",
      " 'industry': 'Aerospace',\n",
      " 'name': 'Union Planters Corp',\n",
      " 'website': 'http://www.unionplanternscorp.com'}\n"
     ]
    }
   ],
   "source": [
    "pprint.pprint(client.assignment1.workplace.find_one())"
   ]
  },
  {
   "cell_type": "code",
   "execution_count": 22,
   "metadata": {},
   "outputs": [],
   "source": [
    "workplace_id = db.workplace.find_one({\"name\": \"Union Planters Corp\"})[\"_id\"]\n",
    "address_id = db.address.find_one({\"address\": \"573 Wojhas Square\", \"city\": \"Victoria\"})[\"_id\"]"
   ]
  },
  {
   "cell_type": "code",
   "execution_count": 23,
   "metadata": {
    "colab": {},
    "colab_type": "code",
    "id": "At7EoGtLvzvE"
   },
   "outputs": [
    {
     "data": {
      "text/plain": [
       "InsertOneResult(ObjectId('68550781e8c3e0bb35c5d483'), acknowledged=True)"
      ]
     },
     "execution_count": 23,
     "metadata": {},
     "output_type": "execute_result"
    }
   ],
   "source": [
    "# YOUR CODE HERE\n",
    "\n",
    "db.employee.insert_one({\n",
    " 'age': 26,\n",
    " 'email': 'jakesample@email.com',\n",
    " 'firstname': 'Jake',\n",
    " 'interests': ['Biking', 'Hiking'],\n",
    " 'lastname': 'Sample',\n",
    " 'workplace_id': workplace_id,\n",
    " 'address_id': address_id\n",
    " })"
   ]
  },
  {
   "cell_type": "code",
   "execution_count": 24,
   "metadata": {},
   "outputs": [
    {
     "data": {
      "text/html": [
       "<div>\n",
       "<style scoped>\n",
       "    .dataframe tbody tr th:only-of-type {\n",
       "        vertical-align: middle;\n",
       "    }\n",
       "\n",
       "    .dataframe tbody tr th {\n",
       "        vertical-align: top;\n",
       "    }\n",
       "\n",
       "    .dataframe thead th {\n",
       "        text-align: right;\n",
       "    }\n",
       "</style>\n",
       "<table border=\"1\" class=\"dataframe\">\n",
       "  <thead>\n",
       "    <tr style=\"text-align: right;\">\n",
       "      <th></th>\n",
       "      <th>_id</th>\n",
       "      <th>age</th>\n",
       "      <th>email</th>\n",
       "      <th>firstname</th>\n",
       "      <th>interests</th>\n",
       "      <th>lastname</th>\n",
       "      <th>workplace_id</th>\n",
       "      <th>address_id</th>\n",
       "    </tr>\n",
       "  </thead>\n",
       "  <tbody>\n",
       "    <tr>\n",
       "      <th>0</th>\n",
       "      <td>68550781e8c3e0bb35c5d483</td>\n",
       "      <td>26</td>\n",
       "      <td>jakesample@email.com</td>\n",
       "      <td>Jake</td>\n",
       "      <td>[Biking, Hiking]</td>\n",
       "      <td>Sample</td>\n",
       "      <td>5345fcb9-6297-4b9f-aa15-cbee8460f28f</td>\n",
       "      <td>91b5b7b3-2309-4e8a-8247-cd66d626ef0c</td>\n",
       "    </tr>\n",
       "    <tr>\n",
       "      <th>1</th>\n",
       "      <td>663e70d1-1b08-4e40-a880-befe2bec42d3</td>\n",
       "      <td>52</td>\n",
       "      <td>bibtar@ru.gb</td>\n",
       "      <td>Edward</td>\n",
       "      <td>[Hiking, Soccer, Dancing]</td>\n",
       "      <td>Hawkins</td>\n",
       "      <td>2b87eb84-e5b4-4f2c-9e13-dc3ba20a7f7f</td>\n",
       "      <td>824fea9d-d0e6-4c53-ad9d-5bf626a948f3</td>\n",
       "    </tr>\n",
       "    <tr>\n",
       "      <th>2</th>\n",
       "      <td>2bfc0479-cb15-46e1-94fa-801404791b21</td>\n",
       "      <td>37</td>\n",
       "      <td>usope@tega.bh</td>\n",
       "      <td>Peter</td>\n",
       "      <td>[Cooking, Swimming, Cricket]</td>\n",
       "      <td>Jimenez</td>\n",
       "      <td>cb795afb-8dc3-482f-b3a0-14229a280afa</td>\n",
       "      <td>77ce0c50-afd6-47e8-86d7-b1b372e8deb2</td>\n",
       "    </tr>\n",
       "    <tr>\n",
       "      <th>3</th>\n",
       "      <td>b2a2ae86-f4f6-4da5-ade6-ee1cd135daf3</td>\n",
       "      <td>49</td>\n",
       "      <td>ah@jopah.uz</td>\n",
       "      <td>Gavin</td>\n",
       "      <td>[Rubgy, Cooking, Bowling]</td>\n",
       "      <td>Conner</td>\n",
       "      <td>50275ad1-8140-4e79-8818-21793e3eb0a3</td>\n",
       "      <td>ef5a17a2-6f11-49b8-a0fd-e0bddc56f185</td>\n",
       "    </tr>\n",
       "    <tr>\n",
       "      <th>4</th>\n",
       "      <td>220eb787-0a63-4518-9b3e-4f5c0afd68c3</td>\n",
       "      <td>55</td>\n",
       "      <td>zegatike@iwocejnan.sy</td>\n",
       "      <td>Eula</td>\n",
       "      <td>[Rubgy, Cycling, Fishing]</td>\n",
       "      <td>Santos</td>\n",
       "      <td>2b87eb84-e5b4-4f2c-9e13-dc3ba20a7f7f</td>\n",
       "      <td>c923b5b1-3eca-4a26-9974-cfadae5c1ddf</td>\n",
       "    </tr>\n",
       "  </tbody>\n",
       "</table>\n",
       "</div>"
      ],
      "text/plain": [
       "                                    _id  age                  email firstname  \\\n",
       "0              68550781e8c3e0bb35c5d483   26   jakesample@email.com      Jake   \n",
       "1  663e70d1-1b08-4e40-a880-befe2bec42d3   52           bibtar@ru.gb    Edward   \n",
       "2  2bfc0479-cb15-46e1-94fa-801404791b21   37          usope@tega.bh     Peter   \n",
       "3  b2a2ae86-f4f6-4da5-ade6-ee1cd135daf3   49            ah@jopah.uz     Gavin   \n",
       "4  220eb787-0a63-4518-9b3e-4f5c0afd68c3   55  zegatike@iwocejnan.sy      Eula   \n",
       "\n",
       "                      interests lastname  \\\n",
       "0              [Biking, Hiking]   Sample   \n",
       "1     [Hiking, Soccer, Dancing]  Hawkins   \n",
       "2  [Cooking, Swimming, Cricket]  Jimenez   \n",
       "3     [Rubgy, Cooking, Bowling]   Conner   \n",
       "4     [Rubgy, Cycling, Fishing]   Santos   \n",
       "\n",
       "                           workplace_id                            address_id  \n",
       "0  5345fcb9-6297-4b9f-aa15-cbee8460f28f  91b5b7b3-2309-4e8a-8247-cd66d626ef0c  \n",
       "1  2b87eb84-e5b4-4f2c-9e13-dc3ba20a7f7f  824fea9d-d0e6-4c53-ad9d-5bf626a948f3  \n",
       "2  cb795afb-8dc3-482f-b3a0-14229a280afa  77ce0c50-afd6-47e8-86d7-b1b372e8deb2  \n",
       "3  50275ad1-8140-4e79-8818-21793e3eb0a3  ef5a17a2-6f11-49b8-a0fd-e0bddc56f185  \n",
       "4  2b87eb84-e5b4-4f2c-9e13-dc3ba20a7f7f  c923b5b1-3eca-4a26-9974-cfadae5c1ddf  "
      ]
     },
     "execution_count": 24,
     "metadata": {},
     "output_type": "execute_result"
    }
   ],
   "source": [
    "query_result = db.employee.find() \\\n",
    "              .sort(\n",
    "                    '$natural',  # sort based on the order the document was inserted\n",
    "                     pymongo.DESCENDING) \\\n",
    "              .limit(5) # only look at the last 5 inserted documents\n",
    "\n",
    "#Print the result in a table\n",
    "pd.DataFrame(list(query_result))"
   ]
  },
  {
   "cell_type": "markdown",
   "metadata": {
    "colab_type": "text",
    "id": "Bq6r7ffrvzvI"
   },
   "source": [
    "#### Question 3 (10 Marks)\n",
    "\n",
    "Delete all employees that work for 'Great Plains Energy Inc.' and are greater than 46 years old and likes 'Tennis'. Once you delete the employees verify the number of employees deleted."
   ]
  },
  {
   "cell_type": "code",
   "execution_count": null,
   "metadata": {
    "colab": {},
    "colab_type": "code",
    "id": "XtzUs6YDvzvJ"
   },
   "outputs": [],
   "source": [
    "# YOUR CODE HERE"
   ]
  },
  {
   "cell_type": "markdown",
   "metadata": {
    "colab_type": "text",
    "id": "-yi0OsI0vzvQ"
   },
   "source": [
    "#### Question 4 (10 Marks)\n",
    "Add a new field called 'industry' in the employee collection, to all employees that work for 'Health Net Inc.' and populate the field with the value 'Health Care'.\n",
    "\n",
    "__HINT__ Adding a new field to a document is like updating the document"
   ]
  },
  {
   "cell_type": "code",
   "execution_count": null,
   "metadata": {
    "colab": {},
    "colab_type": "code",
    "id": "gWj7cut_vzvR"
   },
   "outputs": [],
   "source": [
    "# YOUR CODE HERE"
   ]
  },
  {
   "cell_type": "markdown",
   "metadata": {
    "colab_type": "text",
    "id": "AlvB2ficvzvW"
   },
   "source": [
    "#### Question 5 (10 Marks)\n",
    "\n",
    "Create an aggregate query to count the number of employees for each company and sort the output from largest employee count to lowest employee count.\n",
    "\n",
    "__NOTE__ you will use a pipeline to achieve the computed result.  You should produce a result similar to the following table (the following table contains fake data)\n",
    "<table>\n",
    "    <tr><th></th><th>_id</th><th>count</th></tr>\n",
    "    <tr><td>0</td><td>[Equity Residential Properties Trust]</td><td>19</td></tr>\n",
    "    <tr><td>...</td><td>...</td><td>...</td></tr>\n",
    "    <tr><td>7</td><td>[Bell Microproducts Inc.]</td><td>6</td></tr>\n",
    "    <tr><td>8</td><td>[Kemet Corp.]</td><td>1</td></tr>\n",
    "</table>\n",
    "\n",
    "__HINT__ you should make use of the \\\\$lookup, \\\\$group and \\\\$sort pipeline operations"
   ]
  },
  {
   "cell_type": "code",
   "execution_count": null,
   "metadata": {
    "colab": {},
    "colab_type": "code",
    "id": "ajgvx8V5vzvW"
   },
   "outputs": [],
   "source": [
    "# YOUR CODE HERE\n",
    "\n",
    "query_result = # YOUR CODE HERE\n",
    "\n",
    "pd.DataFrame(list(query_result))"
   ]
  }
 ],
 "metadata": {
  "colab": {
   "collapsed_sections": [],
   "name": "Assignment_1.ipynb",
   "provenance": [],
   "version": "0.3.2"
  },
  "kernelspec": {
   "display_name": "base",
   "language": "python",
   "name": "python3"
  },
  "language_info": {
   "codemirror_mode": {
    "name": "ipython",
    "version": 3
   },
   "file_extension": ".py",
   "mimetype": "text/x-python",
   "name": "python",
   "nbconvert_exporter": "python",
   "pygments_lexer": "ipython3",
   "version": "3.12.7"
  }
 },
 "nbformat": 4,
 "nbformat_minor": 1
}
