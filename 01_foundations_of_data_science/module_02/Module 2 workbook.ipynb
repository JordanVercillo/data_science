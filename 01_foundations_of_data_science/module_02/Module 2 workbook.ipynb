{
 "cells": [
  {
   "cell_type": "code",
   "execution_count": 2,
   "id": "6ca7139d-5433-4883-8b54-7e67139e5f20",
   "metadata": {
    "tags": []
   },
   "outputs": [
    {
     "data": {
      "text/plain": [
       "1"
      ]
     },
     "execution_count": 2,
     "metadata": {},
     "output_type": "execute_result"
    }
   ],
   "source": [
    "def fib(n):\n",
    "    if n <= 1:\n",
    "        return n\n",
    "fib(1)"
   ]
  },
  {
   "cell_type": "code",
   "execution_count": 6,
   "id": "a32c6ff4-5413-4d72-baad-590fbe13368a",
   "metadata": {
    "tags": []
   },
   "outputs": [
    {
     "name": "stdout",
     "output_type": "stream",
     "text": [
      "7\n"
     ]
    }
   ],
   "source": [
    "def counter(n):\n",
    "    while (n < 1000):\n",
    "        if ((n * 11) % 7 == 0):\n",
    "            print (n)\n",
    "            break\n",
    "        else:\n",
    "            n += 1\n",
    "\n",
    "counter(5)"
   ]
  },
  {
   "cell_type": "code",
   "execution_count": 13,
   "id": "ddcf01c0-2e43-4246-86e8-1a525c1bb02c",
   "metadata": {
    "tags": []
   },
   "outputs": [
    {
     "name": "stdout",
     "output_type": "stream",
     "text": [
      "n is equal to 3\n"
     ]
    }
   ],
   "source": [
    "def counter(n):\n",
    "    while (n < 5):\n",
    "        print(\"n is equal to \" + str(n)) \n",
    "        n += 1\n",
    "        break\n",
    "        \n",
    "counter(3)"
   ]
  },
  {
   "cell_type": "code",
   "execution_count": 14,
   "id": "d4b2fc60-9793-4653-b938-369d31fa3c49",
   "metadata": {
    "tags": []
   },
   "outputs": [
    {
     "name": "stdout",
     "output_type": "stream",
     "text": [
      "Help on method_descriptor:\n",
      "\n",
      "find(...)\n",
      "    S.find(sub[, start[, end]]) -> int\n",
      "    \n",
      "    Return the lowest index in S where substring sub is found,\n",
      "    such that sub is contained within S[start:end].  Optional\n",
      "    arguments start and end are interpreted as in slice notation.\n",
      "    \n",
      "    Return -1 on failure.\n",
      "\n"
     ]
    }
   ],
   "source": [
    "help(str.find)"
   ]
  },
  {
   "cell_type": "code",
   "execution_count": 17,
   "id": "7544e81a-d26d-4046-8e85-91213c4f21c6",
   "metadata": {
    "tags": []
   },
   "outputs": [
    {
     "name": "stdout",
     "output_type": "stream",
     "text": [
      "Help on method_descriptor:\n",
      "\n",
      "count(...)\n",
      "    S.count(sub[, start[, end]]) -> int\n",
      "    \n",
      "    Return the number of non-overlapping occurrences of substring sub in\n",
      "    string S[start:end].  Optional arguments start and end are\n",
      "    interpreted as in slice notation.\n",
      "\n"
     ]
    }
   ],
   "source": [
    "help(str.count)"
   ]
  },
  {
   "cell_type": "code",
   "execution_count": null,
   "id": "fe619796-725d-4ffb-89e5-ca47982e1ace",
   "metadata": {},
   "outputs": [],
   "source": []
  }
 ],
 "metadata": {
  "kernelspec": {
   "display_name": "Python 3 (ipykernel)",
   "language": "python",
   "name": "python3"
  },
  "language_info": {
   "codemirror_mode": {
    "name": "ipython",
    "version": 3
   },
   "file_extension": ".py",
   "mimetype": "text/x-python",
   "name": "python",
   "nbconvert_exporter": "python",
   "pygments_lexer": "ipython3",
   "version": "3.11.5"
  }
 },
 "nbformat": 4,
 "nbformat_minor": 5
}
